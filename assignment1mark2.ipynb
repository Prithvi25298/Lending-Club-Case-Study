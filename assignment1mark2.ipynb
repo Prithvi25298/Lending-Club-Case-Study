{
 "cells": [
  {
   "cell_type": "code",
   "execution_count": 1,
   "id": "578ac724",
   "metadata": {},
   "outputs": [],
   "source": [
    "#import libraries\n",
    "import pandas as pd\n",
    "import numpy as np\n",
    "import matplotlib.pyplot as plt\n",
    "import seaborn as sns\n",
    "import plotly.express as px"
   ]
  },
  {
   "cell_type": "markdown",
   "id": "591a10f2-73e8-49af-ba05-9f77dd1c5098",
   "metadata": {},
   "source": [
    "# Load the data"
   ]
  },
  {
   "cell_type": "code",
   "execution_count": 2,
   "id": "32cf83bb",
   "metadata": {},
   "outputs": [
    {
     "name": "stderr",
     "output_type": "stream",
     "text": [
      "C:\\Users\\scpow\\anaconda3\\lib\\site-packages\\IPython\\core\\interactiveshell.py:3165: DtypeWarning: Columns (47) have mixed types.Specify dtype option on import or set low_memory=False.\n",
      "  has_raised = await self.run_ast_nodes(code_ast.body, cell_name,\n"
     ]
    }
   ],
   "source": [
    "dfloan = pd.read_csv(\"loan.csv\") #export csv"
   ]
  },
  {
   "cell_type": "markdown",
   "id": "76bfeb31",
   "metadata": {},
   "source": [
    "# Sanity checks"
   ]
  },
  {
   "cell_type": "code",
   "execution_count": 3,
   "id": "2a56b694-a4b3-41d7-b7b0-615dcb842eac",
   "metadata": {},
   "outputs": [
    {
     "data": {
      "text/plain": [
       "RangeIndex(start=0, stop=39717, step=1)"
      ]
     },
     "execution_count": 3,
     "metadata": {},
     "output_type": "execute_result"
    }
   ],
   "source": [
    "dfloan.index"
   ]
  },
  {
   "cell_type": "code",
   "execution_count": 4,
   "id": "1118885e-e742-4e01-bf4a-b4373d8fd07b",
   "metadata": {},
   "outputs": [
    {
     "data": {
      "text/plain": [
       "(39717, 111)"
      ]
     },
     "execution_count": 4,
     "metadata": {},
     "output_type": "execute_result"
    }
   ],
   "source": [
    "dfloan.shape #get the shape of data"
   ]
  },
  {
   "cell_type": "code",
   "execution_count": 5,
   "id": "427cfdaf",
   "metadata": {},
   "outputs": [
    {
     "data": {
      "text/html": [
       "<div>\n",
       "<style scoped>\n",
       "    .dataframe tbody tr th:only-of-type {\n",
       "        vertical-align: middle;\n",
       "    }\n",
       "\n",
       "    .dataframe tbody tr th {\n",
       "        vertical-align: top;\n",
       "    }\n",
       "\n",
       "    .dataframe thead th {\n",
       "        text-align: right;\n",
       "    }\n",
       "</style>\n",
       "<table border=\"1\" class=\"dataframe\">\n",
       "  <thead>\n",
       "    <tr style=\"text-align: right;\">\n",
       "      <th></th>\n",
       "      <th>id</th>\n",
       "      <th>member_id</th>\n",
       "      <th>loan_amnt</th>\n",
       "      <th>funded_amnt</th>\n",
       "      <th>funded_amnt_inv</th>\n",
       "      <th>term</th>\n",
       "      <th>int_rate</th>\n",
       "      <th>installment</th>\n",
       "      <th>grade</th>\n",
       "      <th>sub_grade</th>\n",
       "      <th>...</th>\n",
       "      <th>num_tl_90g_dpd_24m</th>\n",
       "      <th>num_tl_op_past_12m</th>\n",
       "      <th>pct_tl_nvr_dlq</th>\n",
       "      <th>percent_bc_gt_75</th>\n",
       "      <th>pub_rec_bankruptcies</th>\n",
       "      <th>tax_liens</th>\n",
       "      <th>tot_hi_cred_lim</th>\n",
       "      <th>total_bal_ex_mort</th>\n",
       "      <th>total_bc_limit</th>\n",
       "      <th>total_il_high_credit_limit</th>\n",
       "    </tr>\n",
       "  </thead>\n",
       "  <tbody>\n",
       "    <tr>\n",
       "      <th>0</th>\n",
       "      <td>1077501</td>\n",
       "      <td>1296599</td>\n",
       "      <td>5000</td>\n",
       "      <td>5000</td>\n",
       "      <td>4975.0</td>\n",
       "      <td>36 months</td>\n",
       "      <td>10.65%</td>\n",
       "      <td>162.87</td>\n",
       "      <td>B</td>\n",
       "      <td>B2</td>\n",
       "      <td>...</td>\n",
       "      <td>NaN</td>\n",
       "      <td>NaN</td>\n",
       "      <td>NaN</td>\n",
       "      <td>NaN</td>\n",
       "      <td>0.0</td>\n",
       "      <td>0.0</td>\n",
       "      <td>NaN</td>\n",
       "      <td>NaN</td>\n",
       "      <td>NaN</td>\n",
       "      <td>NaN</td>\n",
       "    </tr>\n",
       "    <tr>\n",
       "      <th>1</th>\n",
       "      <td>1077430</td>\n",
       "      <td>1314167</td>\n",
       "      <td>2500</td>\n",
       "      <td>2500</td>\n",
       "      <td>2500.0</td>\n",
       "      <td>60 months</td>\n",
       "      <td>15.27%</td>\n",
       "      <td>59.83</td>\n",
       "      <td>C</td>\n",
       "      <td>C4</td>\n",
       "      <td>...</td>\n",
       "      <td>NaN</td>\n",
       "      <td>NaN</td>\n",
       "      <td>NaN</td>\n",
       "      <td>NaN</td>\n",
       "      <td>0.0</td>\n",
       "      <td>0.0</td>\n",
       "      <td>NaN</td>\n",
       "      <td>NaN</td>\n",
       "      <td>NaN</td>\n",
       "      <td>NaN</td>\n",
       "    </tr>\n",
       "    <tr>\n",
       "      <th>2</th>\n",
       "      <td>1077175</td>\n",
       "      <td>1313524</td>\n",
       "      <td>2400</td>\n",
       "      <td>2400</td>\n",
       "      <td>2400.0</td>\n",
       "      <td>36 months</td>\n",
       "      <td>15.96%</td>\n",
       "      <td>84.33</td>\n",
       "      <td>C</td>\n",
       "      <td>C5</td>\n",
       "      <td>...</td>\n",
       "      <td>NaN</td>\n",
       "      <td>NaN</td>\n",
       "      <td>NaN</td>\n",
       "      <td>NaN</td>\n",
       "      <td>0.0</td>\n",
       "      <td>0.0</td>\n",
       "      <td>NaN</td>\n",
       "      <td>NaN</td>\n",
       "      <td>NaN</td>\n",
       "      <td>NaN</td>\n",
       "    </tr>\n",
       "    <tr>\n",
       "      <th>3</th>\n",
       "      <td>1076863</td>\n",
       "      <td>1277178</td>\n",
       "      <td>10000</td>\n",
       "      <td>10000</td>\n",
       "      <td>10000.0</td>\n",
       "      <td>36 months</td>\n",
       "      <td>13.49%</td>\n",
       "      <td>339.31</td>\n",
       "      <td>C</td>\n",
       "      <td>C1</td>\n",
       "      <td>...</td>\n",
       "      <td>NaN</td>\n",
       "      <td>NaN</td>\n",
       "      <td>NaN</td>\n",
       "      <td>NaN</td>\n",
       "      <td>0.0</td>\n",
       "      <td>0.0</td>\n",
       "      <td>NaN</td>\n",
       "      <td>NaN</td>\n",
       "      <td>NaN</td>\n",
       "      <td>NaN</td>\n",
       "    </tr>\n",
       "    <tr>\n",
       "      <th>4</th>\n",
       "      <td>1075358</td>\n",
       "      <td>1311748</td>\n",
       "      <td>3000</td>\n",
       "      <td>3000</td>\n",
       "      <td>3000.0</td>\n",
       "      <td>60 months</td>\n",
       "      <td>12.69%</td>\n",
       "      <td>67.79</td>\n",
       "      <td>B</td>\n",
       "      <td>B5</td>\n",
       "      <td>...</td>\n",
       "      <td>NaN</td>\n",
       "      <td>NaN</td>\n",
       "      <td>NaN</td>\n",
       "      <td>NaN</td>\n",
       "      <td>0.0</td>\n",
       "      <td>0.0</td>\n",
       "      <td>NaN</td>\n",
       "      <td>NaN</td>\n",
       "      <td>NaN</td>\n",
       "      <td>NaN</td>\n",
       "    </tr>\n",
       "  </tbody>\n",
       "</table>\n",
       "<p>5 rows × 111 columns</p>\n",
       "</div>"
      ],
      "text/plain": [
       "        id  member_id  loan_amnt  funded_amnt  funded_amnt_inv        term  \\\n",
       "0  1077501    1296599       5000         5000           4975.0   36 months   \n",
       "1  1077430    1314167       2500         2500           2500.0   60 months   \n",
       "2  1077175    1313524       2400         2400           2400.0   36 months   \n",
       "3  1076863    1277178      10000        10000          10000.0   36 months   \n",
       "4  1075358    1311748       3000         3000           3000.0   60 months   \n",
       "\n",
       "  int_rate  installment grade sub_grade  ... num_tl_90g_dpd_24m  \\\n",
       "0   10.65%       162.87     B        B2  ...                NaN   \n",
       "1   15.27%        59.83     C        C4  ...                NaN   \n",
       "2   15.96%        84.33     C        C5  ...                NaN   \n",
       "3   13.49%       339.31     C        C1  ...                NaN   \n",
       "4   12.69%        67.79     B        B5  ...                NaN   \n",
       "\n",
       "  num_tl_op_past_12m pct_tl_nvr_dlq  percent_bc_gt_75 pub_rec_bankruptcies  \\\n",
       "0                NaN            NaN               NaN                  0.0   \n",
       "1                NaN            NaN               NaN                  0.0   \n",
       "2                NaN            NaN               NaN                  0.0   \n",
       "3                NaN            NaN               NaN                  0.0   \n",
       "4                NaN            NaN               NaN                  0.0   \n",
       "\n",
       "  tax_liens tot_hi_cred_lim total_bal_ex_mort total_bc_limit  \\\n",
       "0       0.0             NaN               NaN            NaN   \n",
       "1       0.0             NaN               NaN            NaN   \n",
       "2       0.0             NaN               NaN            NaN   \n",
       "3       0.0             NaN               NaN            NaN   \n",
       "4       0.0             NaN               NaN            NaN   \n",
       "\n",
       "  total_il_high_credit_limit  \n",
       "0                        NaN  \n",
       "1                        NaN  \n",
       "2                        NaN  \n",
       "3                        NaN  \n",
       "4                        NaN  \n",
       "\n",
       "[5 rows x 111 columns]"
      ]
     },
     "execution_count": 5,
     "metadata": {},
     "output_type": "execute_result"
    }
   ],
   "source": [
    "dfloan.head()"
   ]
  },
  {
   "cell_type": "code",
   "execution_count": 6,
   "id": "edbb49a1",
   "metadata": {},
   "outputs": [
    {
     "data": {
      "text/plain": [
       "id                              int64\n",
       "member_id                       int64\n",
       "loan_amnt                       int64\n",
       "funded_amnt                     int64\n",
       "funded_amnt_inv               float64\n",
       "                               ...   \n",
       "tax_liens                     float64\n",
       "tot_hi_cred_lim               float64\n",
       "total_bal_ex_mort             float64\n",
       "total_bc_limit                float64\n",
       "total_il_high_credit_limit    float64\n",
       "Length: 111, dtype: object"
      ]
     },
     "execution_count": 6,
     "metadata": {},
     "output_type": "execute_result"
    }
   ],
   "source": [
    "dfloan.dtypes"
   ]
  },
  {
   "cell_type": "markdown",
   "id": "034b086f",
   "metadata": {},
   "source": [
    "# Data cleaning"
   ]
  },
  {
   "cell_type": "code",
   "execution_count": 7,
   "id": "78ed54eb-4b17-4a11-b174-8830220786f9",
   "metadata": {},
   "outputs": [],
   "source": [
    "pd.set_option('display.max_rows', None)\n",
    "pd.set_option('display.max_columns', None)"
   ]
  },
  {
   "cell_type": "code",
   "execution_count": 8,
   "id": "c1bb0775",
   "metadata": {},
   "outputs": [
    {
     "data": {
      "text/plain": [
       "id                                    0\n",
       "member_id                             0\n",
       "loan_amnt                             0\n",
       "funded_amnt                           0\n",
       "funded_amnt_inv                       0\n",
       "term                                  0\n",
       "int_rate                              0\n",
       "installment                           0\n",
       "grade                                 0\n",
       "sub_grade                             0\n",
       "emp_title                          2459\n",
       "emp_length                         1075\n",
       "home_ownership                        0\n",
       "annual_inc                            0\n",
       "verification_status                   0\n",
       "issue_d                               0\n",
       "loan_status                           0\n",
       "pymnt_plan                            0\n",
       "url                                   0\n",
       "desc                              12940\n",
       "purpose                               0\n",
       "title                                11\n",
       "zip_code                              0\n",
       "addr_state                            0\n",
       "dti                                   0\n",
       "delinq_2yrs                           0\n",
       "earliest_cr_line                      0\n",
       "inq_last_6mths                        0\n",
       "mths_since_last_delinq            25682\n",
       "mths_since_last_record            36931\n",
       "open_acc                              0\n",
       "pub_rec                               0\n",
       "revol_bal                             0\n",
       "revol_util                           50\n",
       "total_acc                             0\n",
       "initial_list_status                   0\n",
       "out_prncp                             0\n",
       "out_prncp_inv                         0\n",
       "total_pymnt                           0\n",
       "total_pymnt_inv                       0\n",
       "total_rec_prncp                       0\n",
       "total_rec_int                         0\n",
       "total_rec_late_fee                    0\n",
       "recoveries                            0\n",
       "collection_recovery_fee               0\n",
       "last_pymnt_d                         71\n",
       "last_pymnt_amnt                       0\n",
       "next_pymnt_d                      38577\n",
       "last_credit_pull_d                    2\n",
       "collections_12_mths_ex_med           56\n",
       "mths_since_last_major_derog       39717\n",
       "policy_code                           0\n",
       "application_type                      0\n",
       "annual_inc_joint                  39717\n",
       "dti_joint                         39717\n",
       "verification_status_joint         39717\n",
       "acc_now_delinq                        0\n",
       "tot_coll_amt                      39717\n",
       "tot_cur_bal                       39717\n",
       "open_acc_6m                       39717\n",
       "open_il_6m                        39717\n",
       "open_il_12m                       39717\n",
       "open_il_24m                       39717\n",
       "mths_since_rcnt_il                39717\n",
       "total_bal_il                      39717\n",
       "il_util                           39717\n",
       "open_rv_12m                       39717\n",
       "open_rv_24m                       39717\n",
       "max_bal_bc                        39717\n",
       "all_util                          39717\n",
       "total_rev_hi_lim                  39717\n",
       "inq_fi                            39717\n",
       "total_cu_tl                       39717\n",
       "inq_last_12m                      39717\n",
       "acc_open_past_24mths              39717\n",
       "avg_cur_bal                       39717\n",
       "bc_open_to_buy                    39717\n",
       "bc_util                           39717\n",
       "chargeoff_within_12_mths             56\n",
       "delinq_amnt                           0\n",
       "mo_sin_old_il_acct                39717\n",
       "mo_sin_old_rev_tl_op              39717\n",
       "mo_sin_rcnt_rev_tl_op             39717\n",
       "mo_sin_rcnt_tl                    39717\n",
       "mort_acc                          39717\n",
       "mths_since_recent_bc              39717\n",
       "mths_since_recent_bc_dlq          39717\n",
       "mths_since_recent_inq             39717\n",
       "mths_since_recent_revol_delinq    39717\n",
       "num_accts_ever_120_pd             39717\n",
       "num_actv_bc_tl                    39717\n",
       "num_actv_rev_tl                   39717\n",
       "num_bc_sats                       39717\n",
       "num_bc_tl                         39717\n",
       "num_il_tl                         39717\n",
       "num_op_rev_tl                     39717\n",
       "num_rev_accts                     39717\n",
       "num_rev_tl_bal_gt_0               39717\n",
       "num_sats                          39717\n",
       "num_tl_120dpd_2m                  39717\n",
       "num_tl_30dpd                      39717\n",
       "num_tl_90g_dpd_24m                39717\n",
       "num_tl_op_past_12m                39717\n",
       "pct_tl_nvr_dlq                    39717\n",
       "percent_bc_gt_75                  39717\n",
       "pub_rec_bankruptcies                697\n",
       "tax_liens                            39\n",
       "tot_hi_cred_lim                   39717\n",
       "total_bal_ex_mort                 39717\n",
       "total_bc_limit                    39717\n",
       "total_il_high_credit_limit        39717\n",
       "dtype: int64"
      ]
     },
     "execution_count": 8,
     "metadata": {},
     "output_type": "execute_result"
    }
   ],
   "source": [
    "dfloan.isnull().sum()"
   ]
  },
  {
   "cell_type": "markdown",
   "id": "1e209acf",
   "metadata": {},
   "source": [
    "##### We observed that many columns donot have any data in them; all values are null so dropping them"
   ]
  },
  {
   "cell_type": "code",
   "execution_count": 9,
   "id": "08673be6",
   "metadata": {},
   "outputs": [
    {
     "data": {
      "text/plain": [
       "(39717, 57)"
      ]
     },
     "execution_count": 9,
     "metadata": {},
     "output_type": "execute_result"
    }
   ],
   "source": [
    "dfloan = dfloan.drop(columns=dfloan.loc[:,dfloan.isnull().sum() == 39717].columns)\n",
    "dfloan.shape"
   ]
  },
  {
   "cell_type": "markdown",
   "id": "b32dd48e-9afe-4e3c-99dc-2b404926be16",
   "metadata": {},
   "source": [
    "##### Earlier we had 111 columns; now we see 57 columns that means <i><b> 54 columns had all null values."
   ]
  },
  {
   "cell_type": "code",
   "execution_count": 10,
   "id": "1662cb09-1020-4efa-b8e7-d1635551bc80",
   "metadata": {},
   "outputs": [
    {
     "data": {
      "text/plain": [
       "emp_title                      2459\n",
       "emp_length                     1075\n",
       "desc                          12940\n",
       "title                            11\n",
       "mths_since_last_delinq        25682\n",
       "mths_since_last_record        36931\n",
       "revol_util                       50\n",
       "last_pymnt_d                     71\n",
       "next_pymnt_d                  38577\n",
       "last_credit_pull_d                2\n",
       "collections_12_mths_ex_med       56\n",
       "chargeoff_within_12_mths         56\n",
       "pub_rec_bankruptcies            697\n",
       "tax_liens                        39\n",
       "dtype: int64"
      ]
     },
     "execution_count": 10,
     "metadata": {},
     "output_type": "execute_result"
    }
   ],
   "source": [
    "#checking columns having missing values\n",
    "dfloan.loc[:,dfloan.isnull().sum() > 0].isnull().sum()"
   ]
  },
  {
   "cell_type": "code",
   "execution_count": 11,
   "id": "c07d314e",
   "metadata": {},
   "outputs": [
    {
     "data": {
      "text/plain": [
       "emp_title                      6.0\n",
       "emp_length                     3.0\n",
       "desc                          33.0\n",
       "title                          0.0\n",
       "mths_since_last_delinq        65.0\n",
       "mths_since_last_record        93.0\n",
       "revol_util                     0.0\n",
       "last_pymnt_d                   0.0\n",
       "next_pymnt_d                  97.0\n",
       "last_credit_pull_d             0.0\n",
       "collections_12_mths_ex_med     0.0\n",
       "chargeoff_within_12_mths       0.0\n",
       "pub_rec_bankruptcies           2.0\n",
       "tax_liens                      0.0\n",
       "dtype: float64"
      ]
     },
     "execution_count": 11,
     "metadata": {},
     "output_type": "execute_result"
    }
   ],
   "source": [
    "#calculating missing value percentage\n",
    "round(dfloan.loc[:,dfloan.isnull().sum() > 0].isnull().sum()/len(dfloan.index),2) * 100"
   ]
  },
  {
   "cell_type": "markdown",
   "id": "203e6074",
   "metadata": {},
   "source": [
    "##### next_pymnt_d, mths_since_last_record has more than 90% null values, so we are dropping these columns                "
   ]
  },
  {
   "cell_type": "code",
   "execution_count": 12,
   "id": "fa2a3bb6",
   "metadata": {},
   "outputs": [
    {
     "data": {
      "text/plain": [
       "(39717, 55)"
      ]
     },
     "execution_count": 12,
     "metadata": {},
     "output_type": "execute_result"
    }
   ],
   "source": [
    "dfloan = dfloan.drop(columns=['next_pymnt_d','mths_since_last_record'])\n",
    "dfloan.shape"
   ]
  },
  {
   "cell_type": "markdown",
   "id": "d079300e-5402-4cf6-8950-341a9192ee2a",
   "metadata": {},
   "source": [
    "<pre>\n",
    "<b>url</b> is uniquely indentifialble with the id in the str which is same as member id\n",
    "similarly, <b>title and desc</b> donot add any additional info \n",
    "Also, <b>mths_since_last_delinq</b> column in not required for our current analysis\n",
    "so dropping these columns "
   ]
  },
  {
   "cell_type": "code",
   "execution_count": 13,
   "id": "dcf75bbf",
   "metadata": {},
   "outputs": [
    {
     "data": {
      "text/plain": [
       "(39717, 51)"
      ]
     },
     "execution_count": 13,
     "metadata": {},
     "output_type": "execute_result"
    }
   ],
   "source": [
    "dfloan = dfloan.drop(columns=['url','desc','title','mths_since_last_delinq'])\n",
    "dfloan.shape"
   ]
  },
  {
   "cell_type": "markdown",
   "id": "062df6d7-79ef-4157-852a-62ab2aa3081b",
   "metadata": {},
   "source": [
    "##### more than 6% of records in the emp_title column are null so creating new category as \"No Title\""
   ]
  },
  {
   "cell_type": "code",
   "execution_count": 14,
   "id": "3a205b89",
   "metadata": {},
   "outputs": [],
   "source": [
    "dfloan[\"emp_title\"] = dfloan[\"emp_title\"].fillna('No Title')\n",
    "#dfloan.emp_title.value_counts()"
   ]
  },
  {
   "cell_type": "markdown",
   "id": "2188e78a-b783-4f05-a6cb-4e7e8e5094aa",
   "metadata": {},
   "source": [
    "##### emp_lenght has only 3% null values so we are dropping these values from the column"
   ]
  },
  {
   "cell_type": "code",
   "execution_count": 15,
   "id": "ff3b9ad8-5172-4224-8545-fdf3c894d2a9",
   "metadata": {},
   "outputs": [],
   "source": [
    "dfloan = dfloan[~dfloan['emp_length'].isnull()]"
   ]
  },
  {
   "cell_type": "markdown",
   "id": "9cc543e2-5880-4d8a-ae5a-b74492888d3e",
   "metadata": {},
   "source": [
    "##### emp_lenght has too many junk characters in its values such as (>, <, years, year) we need to eliminate these to have a standard integer data in it"
   ]
  },
  {
   "cell_type": "code",
   "execution_count": 16,
   "id": "7607898f-7fa8-4a48-a5d1-3a42f5c73592",
   "metadata": {},
   "outputs": [
    {
     "data": {
      "text/plain": [
       "10+ years    8879\n",
       "< 1 year     4583\n",
       "2 years      4388\n",
       "3 years      4095\n",
       "4 years      3436\n",
       "5 years      3282\n",
       "1 year       3240\n",
       "6 years      2229\n",
       "7 years      1773\n",
       "8 years      1479\n",
       "9 years      1258\n",
       "Name: emp_length, dtype: int64"
      ]
     },
     "execution_count": 16,
     "metadata": {},
     "output_type": "execute_result"
    }
   ],
   "source": [
    "dfloan.emp_length.value_counts()"
   ]
  },
  {
   "cell_type": "code",
   "execution_count": 17,
   "id": "9e40c530",
   "metadata": {},
   "outputs": [
    {
     "name": "stderr",
     "output_type": "stream",
     "text": [
      "<ipython-input-17-fd82b6d32ddd>:3: FutureWarning: The default value of regex will change from True to False in a future version. In addition, single character regular expressions will*not* be treated as literal strings when regex=True.\n",
      "  dfloan[\"emp_length\"] = dfloan[\"emp_length\"].str.replace('+','')\n"
     ]
    }
   ],
   "source": [
    "dfloan[\"emp_length\"] = dfloan[\"emp_length\"].str.replace(' years','')\n",
    "dfloan[\"emp_length\"] = dfloan[\"emp_length\"].str.replace(' year','')\n",
    "dfloan[\"emp_length\"] = dfloan[\"emp_length\"].str.replace('+','')\n",
    "dfloan[\"emp_length\"] = dfloan[\"emp_length\"].str.replace('< ','')"
   ]
  },
  {
   "cell_type": "code",
   "execution_count": 18,
   "id": "108177d9-57f6-4361-9085-65b438d3757c",
   "metadata": {},
   "outputs": [
    {
     "data": {
      "text/plain": [
       "10    8879\n",
       "1     7823\n",
       "2     4388\n",
       "3     4095\n",
       "4     3436\n",
       "5     3282\n",
       "6     2229\n",
       "7     1773\n",
       "8     1479\n",
       "9     1258\n",
       "Name: emp_length, dtype: int64"
      ]
     },
     "execution_count": 18,
     "metadata": {},
     "output_type": "execute_result"
    }
   ],
   "source": [
    "dfloan.emp_length.value_counts()"
   ]
  },
  {
   "cell_type": "code",
   "execution_count": 19,
   "id": "57095270",
   "metadata": {},
   "outputs": [
    {
     "data": {
      "text/plain": [
       "revol_util                    0.0\n",
       "last_pymnt_d                  0.0\n",
       "last_credit_pull_d            0.0\n",
       "collections_12_mths_ex_med    0.0\n",
       "chargeoff_within_12_mths      0.0\n",
       "pub_rec_bankruptcies          2.0\n",
       "tax_liens                     0.0\n",
       "dtype: float64"
      ]
     },
     "execution_count": 19,
     "metadata": {},
     "output_type": "execute_result"
    }
   ],
   "source": [
    "#calculating missing value percentage\n",
    "round(dfloan.loc[:,dfloan.isnull().sum() > 0].isnull().sum()/len(dfloan.index),2) * 100"
   ]
  },
  {
   "cell_type": "markdown",
   "id": "067f2c4d-cced-458e-a894-ab2f1f80df12",
   "metadata": {},
   "source": [
    "##### Below columns have only one value i.e. single value columns so dropping them\n",
    "Columns: collections_12_mths_ex_med, chargeoff_within_12_mths, tax_liens"
   ]
  },
  {
   "cell_type": "code",
   "execution_count": 20,
   "id": "5c9b2401",
   "metadata": {},
   "outputs": [
    {
     "name": "stdout",
     "output_type": "stream",
     "text": [
      "--->Column name: collections_12_mths_ex_med \n",
      "--->value is:\n",
      "0.0    38586\n",
      "Name: collections_12_mths_ex_med, dtype: int64\n",
      "--->Column name: chargeoff_within_12_mths \n",
      "--->value is:\n",
      "0.0    38586\n",
      "Name: chargeoff_within_12_mths, dtype: int64\n",
      "--->Column name: tax_liens \n",
      "--->value is:\n",
      "0.0    38603\n",
      "Name: tax_liens, dtype: int64\n"
     ]
    }
   ],
   "source": [
    "for i in ('collections_12_mths_ex_med', 'chargeoff_within_12_mths', 'tax_liens'):\n",
    "    x = dfloan[i].value_counts()\n",
    "    print(f\"--->Column name: {i} \\n--->value is:\\n{x}\")\n"
   ]
  },
  {
   "cell_type": "code",
   "execution_count": 21,
   "id": "558668a5",
   "metadata": {},
   "outputs": [],
   "source": [
    "#those columns values are zero\n",
    "dfloan = dfloan.drop(columns=['collections_12_mths_ex_med','chargeoff_within_12_mths','tax_liens'])"
   ]
  },
  {
   "cell_type": "code",
   "execution_count": 22,
   "id": "39e4f81d-d1e4-42ac-8982-98b87427634f",
   "metadata": {},
   "outputs": [
    {
     "data": {
      "text/plain": [
       "revol_util               47\n",
       "last_pymnt_d             66\n",
       "last_credit_pull_d        2\n",
       "pub_rec_bankruptcies    697\n",
       "dtype: int64"
      ]
     },
     "execution_count": 22,
     "metadata": {},
     "output_type": "execute_result"
    }
   ],
   "source": [
    "dfloan.loc[:,dfloan.isnull().sum() > 0].isnull().sum()"
   ]
  },
  {
   "cell_type": "code",
   "execution_count": 23,
   "id": "49484a98-7c61-49d4-945f-c1da14f32322",
   "metadata": {},
   "outputs": [
    {
     "data": {
      "text/plain": [
       "0.0    36375\n",
       "1.0     1563\n",
       "2.0        7\n",
       "Name: pub_rec_bankruptcies, dtype: int64"
      ]
     },
     "execution_count": 23,
     "metadata": {},
     "output_type": "execute_result"
    }
   ],
   "source": [
    "dfloan.pub_rec_bankruptcies.value_counts()"
   ]
  },
  {
   "cell_type": "code",
   "execution_count": 24,
   "id": "3d33c6bd",
   "metadata": {},
   "outputs": [],
   "source": [
    "#Imputing missing data \n",
    "dfloan[\"pub_rec_bankruptcies\"] = dfloan[\"pub_rec_bankruptcies\"].fillna(0) "
   ]
  },
  {
   "cell_type": "code",
   "execution_count": 25,
   "id": "097a4134",
   "metadata": {},
   "outputs": [
    {
     "data": {
      "text/plain": [
       "(38642, 48)"
      ]
     },
     "execution_count": 25,
     "metadata": {},
     "output_type": "execute_result"
    }
   ],
   "source": [
    "dfloan.shape"
   ]
  },
  {
   "cell_type": "code",
   "execution_count": 26,
   "id": "284c29f2",
   "metadata": {},
   "outputs": [],
   "source": [
    "#cleaning int_rate data by removing % symbol from each record in the col\n",
    "dfloan[\"int_rate\"] = dfloan[\"int_rate\"].str.replace('%','')"
   ]
  },
  {
   "cell_type": "code",
   "execution_count": 27,
   "id": "166493ab",
   "metadata": {},
   "outputs": [],
   "source": [
    "#changing its dtype to float\n",
    "dfloan[\"int_rate\"]  = dfloan[\"int_rate\"].astype(\"float32\")"
   ]
  },
  {
   "cell_type": "code",
   "execution_count": 111,
   "id": "4d9a6df4-634c-437f-809c-854abf7ab5b3",
   "metadata": {},
   "outputs": [],
   "source": [
    "dfloan[\"emp_length\"]  = dfloan[\"emp_length\"].astype(\"int64\")"
   ]
  },
  {
   "cell_type": "code",
   "execution_count": 28,
   "id": "fbdf7df9",
   "metadata": {},
   "outputs": [
    {
     "data": {
      "text/plain": [
       "id                           int64\n",
       "member_id                    int64\n",
       "loan_amnt                    int64\n",
       "funded_amnt                  int64\n",
       "funded_amnt_inv            float64\n",
       "term                        object\n",
       "int_rate                   float32\n",
       "installment                float64\n",
       "grade                       object\n",
       "sub_grade                   object\n",
       "emp_title                   object\n",
       "emp_length                  object\n",
       "home_ownership              object\n",
       "annual_inc                 float64\n",
       "verification_status         object\n",
       "issue_d                     object\n",
       "loan_status                 object\n",
       "pymnt_plan                  object\n",
       "purpose                     object\n",
       "zip_code                    object\n",
       "addr_state                  object\n",
       "dti                        float64\n",
       "delinq_2yrs                  int64\n",
       "earliest_cr_line            object\n",
       "inq_last_6mths               int64\n",
       "open_acc                     int64\n",
       "pub_rec                      int64\n",
       "revol_bal                    int64\n",
       "revol_util                  object\n",
       "total_acc                    int64\n",
       "initial_list_status         object\n",
       "out_prncp                  float64\n",
       "out_prncp_inv              float64\n",
       "total_pymnt                float64\n",
       "total_pymnt_inv            float64\n",
       "total_rec_prncp            float64\n",
       "total_rec_int              float64\n",
       "total_rec_late_fee         float64\n",
       "recoveries                 float64\n",
       "collection_recovery_fee    float64\n",
       "last_pymnt_d                object\n",
       "last_pymnt_amnt            float64\n",
       "last_credit_pull_d          object\n",
       "policy_code                  int64\n",
       "application_type            object\n",
       "acc_now_delinq               int64\n",
       "delinq_amnt                  int64\n",
       "pub_rec_bankruptcies       float64\n",
       "dtype: object"
      ]
     },
     "execution_count": 28,
     "metadata": {},
     "output_type": "execute_result"
    }
   ],
   "source": [
    "dfloan.dtypes"
   ]
  },
  {
   "cell_type": "code",
   "execution_count": 29,
   "id": "93b150d3",
   "metadata": {},
   "outputs": [
    {
     "data": {
      "text/plain": [
       "id                         38642\n",
       "member_id                  38642\n",
       "loan_amnt                    880\n",
       "funded_amnt                 1038\n",
       "funded_amnt_inv             8097\n",
       "term                           2\n",
       "int_rate                     371\n",
       "installment                15149\n",
       "grade                          7\n",
       "sub_grade                     35\n",
       "emp_title                  28776\n",
       "emp_length                    10\n",
       "home_ownership                 5\n",
       "annual_inc                  5100\n",
       "verification_status            3\n",
       "issue_d                       55\n",
       "loan_status                    3\n",
       "pymnt_plan                     1\n",
       "purpose                       14\n",
       "zip_code                     822\n",
       "addr_state                    50\n",
       "dti                         2863\n",
       "delinq_2yrs                   11\n",
       "earliest_cr_line             515\n",
       "inq_last_6mths                 9\n",
       "open_acc                      40\n",
       "pub_rec                        5\n",
       "revol_bal                  21434\n",
       "revol_util                  1087\n",
       "total_acc                     82\n",
       "initial_list_status            1\n",
       "out_prncp                   1096\n",
       "out_prncp_inv               1097\n",
       "total_pymnt                36894\n",
       "total_pymnt_inv            36572\n",
       "total_rec_prncp             7707\n",
       "total_rec_int              34307\n",
       "total_rec_late_fee          1330\n",
       "recoveries                  3911\n",
       "collection_recovery_fee     2542\n",
       "last_pymnt_d                 101\n",
       "last_pymnt_amnt            34150\n",
       "last_credit_pull_d           106\n",
       "policy_code                    1\n",
       "application_type               1\n",
       "acc_now_delinq                 1\n",
       "delinq_amnt                    1\n",
       "pub_rec_bankruptcies           3\n",
       "dtype: int64"
      ]
     },
     "execution_count": 29,
     "metadata": {},
     "output_type": "execute_result"
    }
   ],
   "source": [
    "#checking no. of unique records for each column in the dataset\n",
    "dfloan.nunique()"
   ]
  },
  {
   "cell_type": "code",
   "execution_count": 30,
   "id": "c88001bc",
   "metadata": {},
   "outputs": [
    {
     "data": {
      "text/plain": [
       "(38642, 42)"
      ]
     },
     "execution_count": 30,
     "metadata": {},
     "output_type": "execute_result"
    }
   ],
   "source": [
    "# dropping columns where only 1 value for the entire column\n",
    "dfloan = dfloan.drop(columns=dfloan.loc[:,dfloan.nunique() == 1].columns)\n",
    "dfloan.shape"
   ]
  },
  {
   "cell_type": "code",
   "execution_count": 31,
   "id": "09180782",
   "metadata": {},
   "outputs": [
    {
     "data": {
      "text/plain": [
       "Index(['id', 'member_id', 'loan_amnt', 'funded_amnt', 'funded_amnt_inv',\n",
       "       'term', 'int_rate', 'installment', 'grade', 'sub_grade', 'emp_title',\n",
       "       'emp_length', 'home_ownership', 'annual_inc', 'verification_status',\n",
       "       'issue_d', 'loan_status', 'purpose', 'zip_code', 'addr_state', 'dti',\n",
       "       'delinq_2yrs', 'earliest_cr_line', 'inq_last_6mths', 'open_acc',\n",
       "       'pub_rec', 'revol_bal', 'revol_util', 'total_acc', 'out_prncp',\n",
       "       'out_prncp_inv', 'total_pymnt', 'total_pymnt_inv', 'total_rec_prncp',\n",
       "       'total_rec_int', 'total_rec_late_fee', 'recoveries',\n",
       "       'collection_recovery_fee', 'last_pymnt_d', 'last_pymnt_amnt',\n",
       "       'last_credit_pull_d', 'pub_rec_bankruptcies'],\n",
       "      dtype='object')"
      ]
     },
     "execution_count": 31,
     "metadata": {},
     "output_type": "execute_result"
    }
   ],
   "source": [
    "dfloan.columns"
   ]
  },
  {
   "cell_type": "markdown",
   "id": "311845b1-eff8-449d-a621-318805b411e1",
   "metadata": {},
   "source": [
    "##### Converting issue_d to datetime and then extracting year and month columns from it"
   ]
  },
  {
   "cell_type": "code",
   "execution_count": 32,
   "id": "9d01d846-4506-40e4-8b81-4096377eacc3",
   "metadata": {},
   "outputs": [],
   "source": [
    "dfloan['issue_d'] = pd.to_datetime(dfloan['issue_d'],format='%b-%y')"
   ]
  },
  {
   "cell_type": "code",
   "execution_count": 33,
   "id": "fc992b73-f2c9-4be1-bfbf-021b890f84b7",
   "metadata": {},
   "outputs": [],
   "source": [
    "dfloan['issue_year'] = pd.DatetimeIndex(dfloan['issue_d']).year"
   ]
  },
  {
   "cell_type": "code",
   "execution_count": 34,
   "id": "ee1e6348-1783-4c3d-a575-a431956c967e",
   "metadata": {},
   "outputs": [],
   "source": [
    "dfloan['issue_month'] = pd.DatetimeIndex(dfloan['issue_d']).month"
   ]
  },
  {
   "cell_type": "markdown",
   "id": "83485ab4",
   "metadata": {},
   "source": [
    "# Univariate Analysis"
   ]
  },
  {
   "cell_type": "code",
   "execution_count": 112,
   "id": "b14a2fef-2fab-4cb4-a047-888bfec690f7",
   "metadata": {},
   "outputs": [],
   "source": [
    "#selecting features for analysis\n",
    "\n",
    "required_columns = ['id', 'member_id', 'loan_amnt', 'funded_amnt', 'term', 'int_rate', 'installment', 'grade', 'sub_grade', 'emp_title',\n",
    "       'emp_length', 'home_ownership', 'annual_inc', 'verification_status','issue_d', 'loan_status', 'purpose','issue_year','issue_month']"
   ]
  },
  {
   "cell_type": "code",
   "execution_count": 113,
   "id": "75562a9f-3323-4eb3-b60b-154ba5caf3be",
   "metadata": {},
   "outputs": [],
   "source": [
    "#dropping all columns other than the required columns\n",
    "\n",
    "dfloan2 = dfloan[required_columns]"
   ]
  },
  {
   "cell_type": "code",
   "execution_count": 114,
   "id": "64e08158-4d95-4614-8cd6-84a7c2a032f8",
   "metadata": {},
   "outputs": [
    {
     "data": {
      "text/html": [
       "<div>\n",
       "<style scoped>\n",
       "    .dataframe tbody tr th:only-of-type {\n",
       "        vertical-align: middle;\n",
       "    }\n",
       "\n",
       "    .dataframe tbody tr th {\n",
       "        vertical-align: top;\n",
       "    }\n",
       "\n",
       "    .dataframe thead th {\n",
       "        text-align: right;\n",
       "    }\n",
       "</style>\n",
       "<table border=\"1\" class=\"dataframe\">\n",
       "  <thead>\n",
       "    <tr style=\"text-align: right;\">\n",
       "      <th></th>\n",
       "      <th>id</th>\n",
       "      <th>member_id</th>\n",
       "      <th>loan_amnt</th>\n",
       "      <th>funded_amnt</th>\n",
       "      <th>term</th>\n",
       "      <th>int_rate</th>\n",
       "      <th>installment</th>\n",
       "      <th>grade</th>\n",
       "      <th>sub_grade</th>\n",
       "      <th>emp_title</th>\n",
       "      <th>emp_length</th>\n",
       "      <th>home_ownership</th>\n",
       "      <th>annual_inc</th>\n",
       "      <th>verification_status</th>\n",
       "      <th>issue_d</th>\n",
       "      <th>loan_status</th>\n",
       "      <th>purpose</th>\n",
       "      <th>issue_year</th>\n",
       "      <th>issue_month</th>\n",
       "    </tr>\n",
       "  </thead>\n",
       "  <tbody>\n",
       "    <tr>\n",
       "      <th>0</th>\n",
       "      <td>1077501</td>\n",
       "      <td>1296599</td>\n",
       "      <td>5000</td>\n",
       "      <td>5000</td>\n",
       "      <td>36 months</td>\n",
       "      <td>10.65</td>\n",
       "      <td>162.87</td>\n",
       "      <td>B</td>\n",
       "      <td>B2</td>\n",
       "      <td>No Title</td>\n",
       "      <td>10</td>\n",
       "      <td>RENT</td>\n",
       "      <td>24000.0</td>\n",
       "      <td>Verified</td>\n",
       "      <td>2011-12-01</td>\n",
       "      <td>Fully Paid</td>\n",
       "      <td>credit_card</td>\n",
       "      <td>2011</td>\n",
       "      <td>12</td>\n",
       "    </tr>\n",
       "    <tr>\n",
       "      <th>1</th>\n",
       "      <td>1077430</td>\n",
       "      <td>1314167</td>\n",
       "      <td>2500</td>\n",
       "      <td>2500</td>\n",
       "      <td>60 months</td>\n",
       "      <td>15.27</td>\n",
       "      <td>59.83</td>\n",
       "      <td>C</td>\n",
       "      <td>C4</td>\n",
       "      <td>Ryder</td>\n",
       "      <td>1</td>\n",
       "      <td>RENT</td>\n",
       "      <td>30000.0</td>\n",
       "      <td>Source Verified</td>\n",
       "      <td>2011-12-01</td>\n",
       "      <td>Charged Off</td>\n",
       "      <td>car</td>\n",
       "      <td>2011</td>\n",
       "      <td>12</td>\n",
       "    </tr>\n",
       "    <tr>\n",
       "      <th>2</th>\n",
       "      <td>1077175</td>\n",
       "      <td>1313524</td>\n",
       "      <td>2400</td>\n",
       "      <td>2400</td>\n",
       "      <td>36 months</td>\n",
       "      <td>15.96</td>\n",
       "      <td>84.33</td>\n",
       "      <td>C</td>\n",
       "      <td>C5</td>\n",
       "      <td>No Title</td>\n",
       "      <td>10</td>\n",
       "      <td>RENT</td>\n",
       "      <td>12252.0</td>\n",
       "      <td>Not Verified</td>\n",
       "      <td>2011-12-01</td>\n",
       "      <td>Fully Paid</td>\n",
       "      <td>small_business</td>\n",
       "      <td>2011</td>\n",
       "      <td>12</td>\n",
       "    </tr>\n",
       "    <tr>\n",
       "      <th>3</th>\n",
       "      <td>1076863</td>\n",
       "      <td>1277178</td>\n",
       "      <td>10000</td>\n",
       "      <td>10000</td>\n",
       "      <td>36 months</td>\n",
       "      <td>13.49</td>\n",
       "      <td>339.31</td>\n",
       "      <td>C</td>\n",
       "      <td>C1</td>\n",
       "      <td>AIR RESOURCES BOARD</td>\n",
       "      <td>10</td>\n",
       "      <td>RENT</td>\n",
       "      <td>49200.0</td>\n",
       "      <td>Source Verified</td>\n",
       "      <td>2011-12-01</td>\n",
       "      <td>Fully Paid</td>\n",
       "      <td>other</td>\n",
       "      <td>2011</td>\n",
       "      <td>12</td>\n",
       "    </tr>\n",
       "    <tr>\n",
       "      <th>4</th>\n",
       "      <td>1075358</td>\n",
       "      <td>1311748</td>\n",
       "      <td>3000</td>\n",
       "      <td>3000</td>\n",
       "      <td>60 months</td>\n",
       "      <td>12.69</td>\n",
       "      <td>67.79</td>\n",
       "      <td>B</td>\n",
       "      <td>B5</td>\n",
       "      <td>University Medical Group</td>\n",
       "      <td>1</td>\n",
       "      <td>RENT</td>\n",
       "      <td>80000.0</td>\n",
       "      <td>Source Verified</td>\n",
       "      <td>2011-12-01</td>\n",
       "      <td>Current</td>\n",
       "      <td>other</td>\n",
       "      <td>2011</td>\n",
       "      <td>12</td>\n",
       "    </tr>\n",
       "  </tbody>\n",
       "</table>\n",
       "</div>"
      ],
      "text/plain": [
       "        id  member_id  loan_amnt  funded_amnt        term  int_rate  \\\n",
       "0  1077501    1296599       5000         5000   36 months     10.65   \n",
       "1  1077430    1314167       2500         2500   60 months     15.27   \n",
       "2  1077175    1313524       2400         2400   36 months     15.96   \n",
       "3  1076863    1277178      10000        10000   36 months     13.49   \n",
       "4  1075358    1311748       3000         3000   60 months     12.69   \n",
       "\n",
       "   installment grade sub_grade                 emp_title  emp_length  \\\n",
       "0       162.87     B        B2                  No Title          10   \n",
       "1        59.83     C        C4                     Ryder           1   \n",
       "2        84.33     C        C5                  No Title          10   \n",
       "3       339.31     C        C1       AIR RESOURCES BOARD          10   \n",
       "4        67.79     B        B5  University Medical Group           1   \n",
       "\n",
       "  home_ownership  annual_inc verification_status    issue_d  loan_status  \\\n",
       "0           RENT     24000.0            Verified 2011-12-01   Fully Paid   \n",
       "1           RENT     30000.0     Source Verified 2011-12-01  Charged Off   \n",
       "2           RENT     12252.0        Not Verified 2011-12-01   Fully Paid   \n",
       "3           RENT     49200.0     Source Verified 2011-12-01   Fully Paid   \n",
       "4           RENT     80000.0     Source Verified 2011-12-01      Current   \n",
       "\n",
       "          purpose  issue_year  issue_month  \n",
       "0     credit_card        2011           12  \n",
       "1             car        2011           12  \n",
       "2  small_business        2011           12  \n",
       "3           other        2011           12  \n",
       "4           other        2011           12  "
      ]
     },
     "execution_count": 114,
     "metadata": {},
     "output_type": "execute_result"
    }
   ],
   "source": [
    "dfloan2.head()"
   ]
  },
  {
   "cell_type": "code",
   "execution_count": 115,
   "id": "29daea4b",
   "metadata": {},
   "outputs": [
    {
     "data": {
      "text/plain": [
       "Fully Paid     32145\n",
       "Charged Off     5399\n",
       "Current         1098\n",
       "Name: loan_status, dtype: int64"
      ]
     },
     "execution_count": 115,
     "metadata": {},
     "output_type": "execute_result"
    }
   ],
   "source": [
    "dfloan2.loan_status.value_counts()"
   ]
  },
  {
   "cell_type": "markdown",
   "id": "dbb0ae80-2f61-4029-9a3e-8f5f33c0f9b3",
   "metadata": {},
   "source": [
    "##### Removing entries where loan_status is Current as the current loan transaction is ongoing one and will not help in analysing if a customer will default or not"
   ]
  },
  {
   "cell_type": "code",
   "execution_count": 116,
   "id": "7654a4d2-7d33-4ced-95f8-3a503bcbe142",
   "metadata": {},
   "outputs": [],
   "source": [
    "dfloan2 = dfloan2[dfloan2.loan_status != \"Current\"]"
   ]
  },
  {
   "cell_type": "code",
   "execution_count": 117,
   "id": "6c6c96c6",
   "metadata": {},
   "outputs": [
    {
     "data": {
      "image/png": "[encoded data removed]",
      "text/plain": [
       "<Figure size 648x504 with 1 Axes>"
      ]
     },
     "metadata": {},
     "output_type": "display_data"
    }
   ],
   "source": [
    "plt.figure(figsize = [9,7])\n",
    "mylables = [\"Fully Paid\", \"Charged Off\"]\n",
    "\n",
    "plt.pie(dfloan2['loan_status'].value_counts(),startangle=90,labels = mylables,autopct='%1.0f%%')\n",
    "plt.title('Loan Status')\n",
    "plt.legend()\n",
    "plt.show()"
   ]
  },
  {
   "cell_type": "markdown",
   "id": "9d6a4e5d-702d-4084-a5b9-7885de4b1977",
   "metadata": {},
   "source": [
    "##### we can observe that 86% cutomers have fully paid the loan but 14% have been charged off"
   ]
  },
  {
   "cell_type": "code",
   "execution_count": 118,
   "id": "04f5a015-6faf-42d0-9a04-6296775bc139",
   "metadata": {},
   "outputs": [],
   "source": [
    "#Converting to numeric \n",
    "dfloan2['loan_status_numeric'] = dfloan2['loan_status']\n",
    "dfloan2['loan_status_numeric'] = dfloan2['loan_status_numeric'].str.replace('Fully Paid','0')\n",
    "dfloan2['loan_status_numeric'] = dfloan2['loan_status_numeric'].str.replace('Charged Off','1')"
   ]
  },
  {
   "cell_type": "code",
   "execution_count": 42,
   "id": "1e99474c-f42b-49b7-8a1c-a13f076042c0",
   "metadata": {},
   "outputs": [
    {
     "data": {
      "text/plain": [
       "0    32145\n",
       "1     5399\n",
       "Name: loan_status_numeric, dtype: int64"
      ]
     },
     "execution_count": 42,
     "metadata": {},
     "output_type": "execute_result"
    }
   ],
   "source": [
    "dfloan2['loan_status_numeric']= dfloan2['loan_status_numeric'].astype('int64')\n",
    "dfloan2['loan_status_numeric'].value_counts()"
   ]
  },
  {
   "cell_type": "code",
   "execution_count": 43,
   "id": "abf7271f-5f12-4229-91c3-33e16c332571",
   "metadata": {},
   "outputs": [
    {
     "data": {
      "text/plain": [
       "0.14380460259961644"
      ]
     },
     "execution_count": 43,
     "metadata": {},
     "output_type": "execute_result"
    }
   ],
   "source": [
    "dfloan2['loan_status_numeric'].mean()"
   ]
  },
  {
   "cell_type": "markdown",
   "id": "fe0286d3-c60c-44b8-b34a-6b755de7613e",
   "metadata": {},
   "source": [
    "##### we can say that default rate is 14%"
   ]
  },
  {
   "cell_type": "code",
   "execution_count": 44,
   "id": "f96adab8-bfe3-48ce-840e-030283b0e5b6",
   "metadata": {},
   "outputs": [
    {
     "data": {
      "text/plain": [
       " 36 months    28287\n",
       " 60 months     9257\n",
       "Name: term, dtype: int64"
      ]
     },
     "execution_count": 44,
     "metadata": {},
     "output_type": "execute_result"
    }
   ],
   "source": [
    "dfloan2.term.value_counts()"
   ]
  },
  {
   "cell_type": "code",
   "execution_count": 45,
   "id": "efa632b0-a32f-43cc-ad5d-cf23705d408b",
   "metadata": {},
   "outputs": [
    {
     "data": {
      "image/png": "[encoded data removed]",
      "text/plain": [
       "<Figure size 432x288 with 1 Axes>"
      ]
     },
     "metadata": {
      "needs_background": "light"
     },
     "output_type": "display_data"
    }
   ],
   "source": [
    "plt.hist(dfloan2.term,bins=2)\n",
    "plt.title('Term Frequency')\n",
    "plt.xlabel('term')\n",
    "plt.ylabel('frequency')\n",
    "plt.show()"
   ]
  },
  {
   "cell_type": "markdown",
   "id": "249c96be-59eb-445e-9b66-c4f1929a197c",
   "metadata": {},
   "source": [
    "##### we observe that majority people take 36months term loan compared to 60months"
   ]
  },
  {
   "cell_type": "code",
   "execution_count": 46,
   "id": "c21c5d83-871f-4409-bfa8-311b6909f125",
   "metadata": {},
   "outputs": [
    {
     "data": {
      "image/png": "[encoded data removed]",
      "text/plain": [
       "<Figure size 432x288 with 1 Axes>"
      ]
     },
     "metadata": {
      "needs_background": "light"
     },
     "output_type": "display_data"
    }
   ],
   "source": [
    "dfloan2['grade'].value_counts().plot.bar()\n",
    "plt.title('Grade Frequency')\n",
    "plt.xlabel('grade')\n",
    "plt.ylabel('frequency')\n",
    "plt.show()"
   ]
  },
  {
   "cell_type": "markdown",
   "id": "6406aab0-08d2-4070-87f4-567b1c4b59fd",
   "metadata": {},
   "source": [
    "##### We observe that we have comparitively more number of  A, B and C grade customers than others which is logical and good distribution while lending money as we have more no. of quality customers"
   ]
  },
  {
   "cell_type": "code",
   "execution_count": 47,
   "id": "3fc2f30a-f870-4fff-9239-c963ac72b413",
   "metadata": {},
   "outputs": [
    {
     "data": {
      "image/png": "[encoded data removed]",
      "text/plain": [
       "<Figure size 432x288 with 1 Axes>"
      ]
     },
     "metadata": {
      "needs_background": "light"
     },
     "output_type": "display_data"
    }
   ],
   "source": [
    "dfloan2['issue_year'].value_counts().plot.barh()\n",
    "plt.title('Year wise loan issue frequency trend')\n",
    "plt.xlabel('frequency')\n",
    "plt.ylabel('year')\n",
    "plt.show()"
   ]
  },
  {
   "cell_type": "markdown",
   "id": "7bac6406-bc5f-4eed-874f-62670cce556f",
   "metadata": {},
   "source": [
    "##### We see an increasing trend in the loan taken/issued over the years"
   ]
  },
  {
   "cell_type": "code",
   "execution_count": 48,
   "id": "a65165dc",
   "metadata": {},
   "outputs": [
    {
     "data": {
      "image/png": "[encoded data removed]",
      "text/plain": [
       "<Figure size 432x288 with 1 Axes>"
      ]
     },
     "metadata": {
      "needs_background": "light"
     },
     "output_type": "display_data"
    }
   ],
   "source": [
    "dfloan2['purpose'].value_counts().plot.bar()\n",
    "plt.title('purpose frequency')\n",
    "plt.xlabel('purpose')\n",
    "plt.ylabel('frequency')\n",
    "plt.show()"
   ]
  },
  {
   "cell_type": "markdown",
   "id": "8bf92993-357c-4b2b-b34c-99e5a4ae9e00",
   "metadata": {},
   "source": [
    "##### we observe that loan is majorly taken for debt_consolidation"
   ]
  },
  {
   "cell_type": "code",
   "execution_count": 49,
   "id": "56df2a7e",
   "metadata": {},
   "outputs": [
    {
     "data": {
      "image/png": "[encoded data removed]",
      "text/plain": [
       "<Figure size 432x288 with 1 Axes>"
      ]
     },
     "metadata": {
      "needs_background": "light"
     },
     "output_type": "display_data"
    }
   ],
   "source": [
    "dfloan2['home_ownership'].value_counts().plot.bar()\n",
    "plt.title('home ownership count')\n",
    "plt.xlabel('Home ownership')\n",
    "plt.ylabel('frequency')\n",
    "plt.show()"
   ]
  },
  {
   "cell_type": "markdown",
   "id": "15c4a354-9a6a-41c5-9f0e-cbeb98a832b3",
   "metadata": {},
   "source": [
    "##### we observe that for majority customers home ownership is either rent or mortgage; comparitively only a small chunk of customers own their house"
   ]
  },
  {
   "cell_type": "code",
   "execution_count": 50,
   "id": "27b6160e-63b9-4583-8600-7381fa0910f7",
   "metadata": {},
   "outputs": [
    {
     "data": {
      "image/png": "[encoded data removed]",
      "text/plain": [
       "<Figure size 432x288 with 1 Axes>"
      ]
     },
     "metadata": {
      "needs_background": "light"
     },
     "output_type": "display_data"
    }
   ],
   "source": [
    "dfloan2['int_rate'].value_counts().plot.line()\n",
    "plt.title('Interest Rate Frequency')\n",
    "plt.xlabel('interest rate')\n",
    "plt.ylabel('frequency')\n",
    "plt.show()\n",
    "#dfloan2['int_rate'].plot()"
   ]
  },
  {
   "cell_type": "markdown",
   "id": "80a83920-36fd-4e0e-a2be-d258085684ed",
   "metadata": {},
   "source": [
    "#### we observe that interest rate is between 5 to 25 percent"
   ]
  },
  {
   "cell_type": "markdown",
   "id": "0921bc16-235b-4ad8-87f7-e2080fedbc92",
   "metadata": {},
   "source": [
    "##### Converting interest rate to categorical data"
   ]
  },
  {
   "cell_type": "code",
   "execution_count": 51,
   "id": "a5f2a35b-fb41-466e-aab4-9392d4dc219f",
   "metadata": {},
   "outputs": [],
   "source": [
    "def interest(n):\n",
    "    if n < 10:\n",
    "        return 'low'\n",
    "    elif n>=10 and n<15:\n",
    "        return 'medium'\n",
    "    elif n>=15 and n<20:\n",
    "        return 'high'\n",
    "    else:\n",
    "        return 'very high'"
   ]
  },
  {
   "cell_type": "code",
   "execution_count": 52,
   "id": "d8e1b426-73f1-4b25-a7d7-fb0d6e0a248e",
   "metadata": {},
   "outputs": [],
   "source": [
    "dfloan2['interest_category'] = dfloan2['int_rate'].apply(lambda val: interest(val))"
   ]
  },
  {
   "cell_type": "markdown",
   "id": "2e2f73c0",
   "metadata": {},
   "source": [
    "# Bivariate analysis"
   ]
  },
  {
   "cell_type": "code",
   "execution_count": 53,
   "id": "3e786bdd-f79f-465a-b9a9-4ad5065b2636",
   "metadata": {},
   "outputs": [
    {
     "data": {
      "image/png": "[encoded data removed]",
      "text/plain": [
       "<Figure size 432x288 with 1 Axes>"
      ]
     },
     "metadata": {
      "needs_background": "light"
     },
     "output_type": "display_data"
    }
   ],
   "source": [
    "sns.barplot(x='interest_category', y='loan_status_numeric', data = dfloan2)\n",
    "plt.title('Default Rate across Interest Rate Category')\n",
    "plt.show()\n"
   ]
  },
  {
   "cell_type": "markdown",
   "id": "eaabc534-c296-48cd-a1b8-7f9e4acc1166",
   "metadata": {},
   "source": [
    "##### we observe that customers whose loans are in <b>very high</b> interest rate category have a comparitively higher tendecy to default followed by high, medium and lastly low"
   ]
  },
  {
   "cell_type": "code",
   "execution_count": 85,
   "id": "5e884308",
   "metadata": {},
   "outputs": [
    {
     "data": {
      "image/png": "[encoded data removed]",
      "text/plain": [
       "<Figure size 1800x360 with 1 Axes>"
      ]
     },
     "metadata": {
      "needs_background": "light"
     },
     "output_type": "display_data"
    }
   ],
   "source": [
    "plt.figure(figsize=(25,5))\n",
    "sns.barplot(x='purpose', y='loan_status_numeric', data = dfloan2)\n",
    "plt.title('Default Rate across Purpose')\n",
    "plt.show()"
   ]
  },
  {
   "cell_type": "markdown",
   "id": "5ec090cc-786a-4a73-bf44-878b09698bb8",
   "metadata": {},
   "source": [
    "##### Frequency of small businesses defaulting is very high compared to others"
   ]
  },
  {
   "cell_type": "code",
   "execution_count": 68,
   "id": "65ff5bd9",
   "metadata": {},
   "outputs": [
    {
     "data": {
      "image/png": "[encoded data removed]",
      "text/plain": [
       "<Figure size 432x288 with 1 Axes>"
      ]
     },
     "metadata": {
      "needs_background": "light"
     },
     "output_type": "display_data"
    }
   ],
   "source": [
    "sns.barplot(x='issue_year', y='loan_status_numeric', data = dfloan2)\n",
    "plt.title('Year wise default rate')\n",
    "plt.show()"
   ]
  },
  {
   "cell_type": "markdown",
   "id": "90fca20c-09dd-4fd4-b5b3-3791c7991055",
   "metadata": {},
   "source": [
    "##### Default rate was max in 2007 after which it kept on dropping till 2009. But from 2010 we see a steady rise in default rate"
   ]
  },
  {
   "cell_type": "code",
   "execution_count": 69,
   "id": "cef828a4",
   "metadata": {},
   "outputs": [
    {
     "data": {
      "image/png": "[encoded data removed]",
      "text/plain": [
       "<Figure size 432x288 with 1 Axes>"
      ]
     },
     "metadata": {
      "needs_background": "light"
     },
     "output_type": "display_data"
    }
   ],
   "source": [
    "sns.barplot(x='grade', y='loan_status_numeric', data = dfloan2)\n",
    "plt.title('Grade wise default rate')\n",
    "plt.show()"
   ]
  },
  {
   "cell_type": "markdown",
   "id": "b77ebe20-fae4-4bb5-9844-cb3792c16012",
   "metadata": {},
   "source": [
    "##### We observe an increasing trend in default rate from Grade A to G"
   ]
  },
  {
   "cell_type": "code",
   "execution_count": 104,
   "id": "6141dd5b-e4e7-4312-8f18-76b5b6ec3a66",
   "metadata": {},
   "outputs": [
    {
     "data": {
      "image/png": "[encoded data removed]",
      "text/plain": [
       "<Figure size 432x288 with 1 Axes>"
      ]
     },
     "metadata": {
      "needs_background": "light"
     },
     "output_type": "display_data"
    }
   ],
   "source": [
    "sns.barplot(x='verification_status', y='loan_status_numeric', data = dfloan2)\n",
    "plt.title('Verification_status wise default rate')\n",
    "plt.show()"
   ]
  },
  {
   "cell_type": "markdown",
   "id": "b21d486c-6922-4e5d-bcb9-4c5f2572f3fd",
   "metadata": {},
   "source": [
    "##### We observe that default rate for verified customers is significantly more than that for non verified customers"
   ]
  },
  {
   "cell_type": "markdown",
   "id": "5669dc71-1e4b-4737-879e-e4906fc32616",
   "metadata": {},
   "source": [
    "# Multivariate Analysis"
   ]
  },
  {
   "cell_type": "code",
   "execution_count": 97,
   "id": "6bcd1f87",
   "metadata": {},
   "outputs": [
    {
     "data": {
      "text/html": [
       "<div>\n",
       "<style scoped>\n",
       "    .dataframe tbody tr th:only-of-type {\n",
       "        vertical-align: middle;\n",
       "    }\n",
       "\n",
       "    .dataframe tbody tr th {\n",
       "        vertical-align: top;\n",
       "    }\n",
       "\n",
       "    .dataframe thead th {\n",
       "        text-align: right;\n",
       "    }\n",
       "</style>\n",
       "<table border=\"1\" class=\"dataframe\">\n",
       "  <thead>\n",
       "    <tr style=\"text-align: right;\">\n",
       "      <th>grade</th>\n",
       "      <th>A</th>\n",
       "      <th>B</th>\n",
       "      <th>C</th>\n",
       "      <th>D</th>\n",
       "      <th>E</th>\n",
       "      <th>F</th>\n",
       "      <th>G</th>\n",
       "    </tr>\n",
       "    <tr>\n",
       "      <th>term</th>\n",
       "      <th></th>\n",
       "      <th></th>\n",
       "      <th></th>\n",
       "      <th></th>\n",
       "      <th></th>\n",
       "      <th></th>\n",
       "      <th></th>\n",
       "    </tr>\n",
       "  </thead>\n",
       "  <tbody>\n",
       "    <tr>\n",
       "      <th>36 months</th>\n",
       "      <td>0.056358</td>\n",
       "      <td>0.102685</td>\n",
       "      <td>0.142959</td>\n",
       "      <td>0.177918</td>\n",
       "      <td>0.20070</td>\n",
       "      <td>0.265700</td>\n",
       "      <td>0.375000</td>\n",
       "    </tr>\n",
       "    <tr>\n",
       "      <th>60 months</th>\n",
       "      <td>0.092105</td>\n",
       "      <td>0.185658</td>\n",
       "      <td>0.236997</td>\n",
       "      <td>0.288004</td>\n",
       "      <td>0.29949</td>\n",
       "      <td>0.343085</td>\n",
       "      <td>0.326446</td>\n",
       "    </tr>\n",
       "  </tbody>\n",
       "</table>\n",
       "</div>"
      ],
      "text/plain": [
       "grade              A         B         C         D        E         F  \\\n",
       "term                                                                    \n",
       " 36 months  0.056358  0.102685  0.142959  0.177918  0.20070  0.265700   \n",
       " 60 months  0.092105  0.185658  0.236997  0.288004  0.29949  0.343085   \n",
       "\n",
       "grade              G  \n",
       "term                  \n",
       " 36 months  0.375000  \n",
       " 60 months  0.326446  "
      ]
     },
     "execution_count": 97,
     "metadata": {},
     "output_type": "execute_result"
    }
   ],
   "source": [
    "grade_term_defaultRate = pd.pivot_table(data = dfloan2, values = \"loan_status_numeric\",index=\"term\",columns = \"grade\",aggfunc = np.mean)\n",
    "grade_term_defaultRate"
   ]
  },
  {
   "cell_type": "code",
   "execution_count": 98,
   "id": "1695b5d7",
   "metadata": {},
   "outputs": [
    {
     "data": {
      "image/png": "[encoded data removed]",
      "text/plain": [
       "<Figure size 432x288 with 2 Axes>"
      ]
     },
     "metadata": {
      "needs_background": "light"
     },
     "output_type": "display_data"
    }
   ],
   "source": [
    "sns.heatmap(grade_term_defaultRate)\n",
    "plt.title('Grade and term wise default rate')\n",
    "plt.show()"
   ]
  },
  {
   "cell_type": "markdown",
   "id": "14a99eeb",
   "metadata": {},
   "source": [
    "##### from heat map we can conclude that a customers whose grade is G default the most in 36month term loan whereas F grade customers default the most in 60months term loan "
   ]
  },
  {
   "cell_type": "code",
   "execution_count": 102,
   "id": "352dcff1",
   "metadata": {},
   "outputs": [
    {
     "data": {
      "text/html": [
       "<div>\n",
       "<style scoped>\n",
       "    .dataframe tbody tr th:only-of-type {\n",
       "        vertical-align: middle;\n",
       "    }\n",
       "\n",
       "    .dataframe tbody tr th {\n",
       "        vertical-align: top;\n",
       "    }\n",
       "\n",
       "    .dataframe thead th {\n",
       "        text-align: right;\n",
       "    }\n",
       "</style>\n",
       "<table border=\"1\" class=\"dataframe\">\n",
       "  <thead>\n",
       "    <tr style=\"text-align: right;\">\n",
       "      <th>purpose</th>\n",
       "      <th>car</th>\n",
       "      <th>credit_card</th>\n",
       "      <th>debt_consolidation</th>\n",
       "      <th>educational</th>\n",
       "      <th>home_improvement</th>\n",
       "      <th>house</th>\n",
       "      <th>major_purchase</th>\n",
       "      <th>medical</th>\n",
       "      <th>moving</th>\n",
       "      <th>other</th>\n",
       "      <th>renewable_energy</th>\n",
       "      <th>small_business</th>\n",
       "      <th>vacation</th>\n",
       "      <th>wedding</th>\n",
       "    </tr>\n",
       "    <tr>\n",
       "      <th>interest_category</th>\n",
       "      <th></th>\n",
       "      <th></th>\n",
       "      <th></th>\n",
       "      <th></th>\n",
       "      <th></th>\n",
       "      <th></th>\n",
       "      <th></th>\n",
       "      <th></th>\n",
       "      <th></th>\n",
       "      <th></th>\n",
       "      <th></th>\n",
       "      <th></th>\n",
       "      <th></th>\n",
       "      <th></th>\n",
       "    </tr>\n",
       "  </thead>\n",
       "  <tbody>\n",
       "    <tr>\n",
       "      <th>high</th>\n",
       "      <td>0.238636</td>\n",
       "      <td>0.195155</td>\n",
       "      <td>0.249222</td>\n",
       "      <td>0.392857</td>\n",
       "      <td>0.210773</td>\n",
       "      <td>0.329268</td>\n",
       "      <td>0.197880</td>\n",
       "      <td>0.247788</td>\n",
       "      <td>0.215909</td>\n",
       "      <td>0.298188</td>\n",
       "      <td>0.058824</td>\n",
       "      <td>0.325328</td>\n",
       "      <td>0.181818</td>\n",
       "      <td>0.175676</td>\n",
       "    </tr>\n",
       "    <tr>\n",
       "      <th>low</th>\n",
       "      <td>0.051051</td>\n",
       "      <td>0.045760</td>\n",
       "      <td>0.065265</td>\n",
       "      <td>0.054945</td>\n",
       "      <td>0.050373</td>\n",
       "      <td>0.045045</td>\n",
       "      <td>0.043094</td>\n",
       "      <td>0.060086</td>\n",
       "      <td>0.115183</td>\n",
       "      <td>0.087542</td>\n",
       "      <td>0.142857</td>\n",
       "      <td>0.122249</td>\n",
       "      <td>0.115646</td>\n",
       "      <td>0.034247</td>\n",
       "    </tr>\n",
       "    <tr>\n",
       "      <th>medium</th>\n",
       "      <td>0.129353</td>\n",
       "      <td>0.112157</td>\n",
       "      <td>0.141699</td>\n",
       "      <td>0.182741</td>\n",
       "      <td>0.140549</td>\n",
       "      <td>0.140000</td>\n",
       "      <td>0.128118</td>\n",
       "      <td>0.178808</td>\n",
       "      <td>0.154717</td>\n",
       "      <td>0.155329</td>\n",
       "      <td>0.250000</td>\n",
       "      <td>0.288512</td>\n",
       "      <td>0.161290</td>\n",
       "      <td>0.111597</td>\n",
       "    </tr>\n",
       "    <tr>\n",
       "      <th>very high</th>\n",
       "      <td>0.333333</td>\n",
       "      <td>0.216216</td>\n",
       "      <td>0.391982</td>\n",
       "      <td>0.000000</td>\n",
       "      <td>0.250000</td>\n",
       "      <td>0.545455</td>\n",
       "      <td>0.300000</td>\n",
       "      <td>0.625000</td>\n",
       "      <td>0.250000</td>\n",
       "      <td>0.411765</td>\n",
       "      <td>1.000000</td>\n",
       "      <td>0.545455</td>\n",
       "      <td>0.000000</td>\n",
       "      <td>0.312500</td>\n",
       "    </tr>\n",
       "  </tbody>\n",
       "</table>\n",
       "</div>"
      ],
      "text/plain": [
       "purpose                 car  credit_card  debt_consolidation  educational  \\\n",
       "interest_category                                                           \n",
       "high               0.238636     0.195155            0.249222     0.392857   \n",
       "low                0.051051     0.045760            0.065265     0.054945   \n",
       "medium             0.129353     0.112157            0.141699     0.182741   \n",
       "very high          0.333333     0.216216            0.391982     0.000000   \n",
       "\n",
       "purpose            home_improvement     house  major_purchase   medical  \\\n",
       "interest_category                                                         \n",
       "high                       0.210773  0.329268        0.197880  0.247788   \n",
       "low                        0.050373  0.045045        0.043094  0.060086   \n",
       "medium                     0.140549  0.140000        0.128118  0.178808   \n",
       "very high                  0.250000  0.545455        0.300000  0.625000   \n",
       "\n",
       "purpose              moving     other  renewable_energy  small_business  \\\n",
       "interest_category                                                         \n",
       "high               0.215909  0.298188          0.058824        0.325328   \n",
       "low                0.115183  0.087542          0.142857        0.122249   \n",
       "medium             0.154717  0.155329          0.250000        0.288512   \n",
       "very high          0.250000  0.411765          1.000000        0.545455   \n",
       "\n",
       "purpose            vacation   wedding  \n",
       "interest_category                      \n",
       "high               0.181818  0.175676  \n",
       "low                0.115646  0.034247  \n",
       "medium             0.161290  0.111597  \n",
       "very high          0.000000  0.312500  "
      ]
     },
     "execution_count": 102,
     "metadata": {},
     "output_type": "execute_result"
    }
   ],
   "source": [
    "intrest_purpose_defaultRate = pd.pivot_table(data = dfloan2, values = \"loan_status_numeric\",index=\"interest_category\",columns = \"purpose\",aggfunc = np.mean)\n",
    "intrest_purpose_defaultRate"
   ]
  },
  {
   "cell_type": "code",
   "execution_count": 103,
   "id": "e559d17f",
   "metadata": {},
   "outputs": [
    {
     "data": {
      "image/png": "[encoded data removed]",
      "text/plain": [
       "<Figure size 432x288 with 2 Axes>"
      ]
     },
     "metadata": {
      "needs_background": "light"
     },
     "output_type": "display_data"
    }
   ],
   "source": [
    "sns.heatmap(intrest_purpose_defaultRate)\n",
    "plt.title('Intrest rate and purpose wise default rate')\n",
    "plt.show()"
   ]
  },
  {
   "cell_type": "markdown",
   "id": "6d9726c0",
   "metadata": {},
   "source": [
    "##### We observe that renewable_energy purpose under very high interest category default the most"
   ]
  },
  {
   "cell_type": "markdown",
   "id": "e1d1af4b-a21b-4142-b44c-0a470f91a1af",
   "metadata": {},
   "source": [
    "# Segmented univariate analysis "
   ]
  },
  {
   "cell_type": "code",
   "execution_count": 106,
   "id": "d46da311-46bf-49b8-b622-feb0006fc212",
   "metadata": {},
   "outputs": [
    {
     "data": {
      "text/plain": [
       "<AxesSubplot:xlabel='loan_status', ylabel='int_rate'>"
      ]
     },
     "execution_count": 106,
     "metadata": {},
     "output_type": "execute_result"
    },
    {
     "data": {
      "image/png": "[encoded data removed]",
      "text/plain": [
       "<Figure size 432x288 with 1 Axes>"
      ]
     },
     "metadata": {
      "needs_background": "light"
     },
     "output_type": "display_data"
    }
   ],
   "source": [
    "sns.boxplot(x = 'loan_status', y = 'int_rate', data = dfloan2)"
   ]
  },
  {
   "cell_type": "markdown",
   "id": "899e7a00-8e05-497f-9cf9-53a87a85105b",
   "metadata": {},
   "source": [
    "##### we observe that median of charged off is significantly higher than that of fully paid i.e. when intrest rate is high the probablity of default is higher.  "
   ]
  }
 ],
 "metadata": {
  "kernelspec": {
   "display_name": "Python 3",
   "language": "python",
   "name": "python3"
  },
  "language_info": {
   "codemirror_mode": {
    "name": "ipython",
    "version": 3
   },
   "file_extension": ".py",
   "mimetype": "text/x-python",
   "name": "python",
   "nbconvert_exporter": "python",
   "pygments_lexer": "ipython3",
   "version": "3.8.8"
  }
 },
 "nbformat": 4,
 "nbformat_minor": 5
}
