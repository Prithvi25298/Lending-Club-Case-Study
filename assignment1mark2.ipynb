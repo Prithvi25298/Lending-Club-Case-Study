{
 "cells": [
  {
   "cell_type": "code",
   "execution_count": 1,
   "id": "578ac724",
   "metadata": {},
   "outputs": [],
   "source": [
    "#import libraries\n",
    "import pandas as pd\n",
    "import numpy as np\n",
    "import matplotlib.pyplot as plt\n",
    "import seaborn as sns\n",
    "import plotly as pltly"
   ]
  },
  {
   "cell_type": "markdown",
   "id": "591a10f2-73e8-49af-ba05-9f77dd1c5098",
   "metadata": {},
   "source": [
    "# Load the data"
   ]
  },
  {
   "cell_type": "code",
   "execution_count": 2,
   "id": "32cf83bb",
   "metadata": {},
   "outputs": [
    {
     "name": "stderr",
     "output_type": "stream",
     "text": [
      "C:\\Users\\scpow\\anaconda3\\lib\\site-packages\\IPython\\core\\interactiveshell.py:3165: DtypeWarning: Columns (47) have mixed types.Specify dtype option on import or set low_memory=False.\n",
      "  has_raised = await self.run_ast_nodes(code_ast.body, cell_name,\n"
     ]
    }
   ],
   "source": [
    "dfloan = pd.read_csv(\"loan.csv\") #export csv"
   ]
  },
  {
   "cell_type": "markdown",
   "id": "76bfeb31",
   "metadata": {},
   "source": [
    "# Sanity checks"
   ]
  },
  {
   "cell_type": "code",
   "execution_count": 3,
   "id": "1118885e-e742-4e01-bf4a-b4373d8fd07b",
   "metadata": {},
   "outputs": [
    {
     "data": {
      "text/plain": [
       "(39717, 111)"
      ]
     },
     "execution_count": 3,
     "metadata": {},
     "output_type": "execute_result"
    }
   ],
   "source": [
    "dfloan.shape #get the shape of data"
   ]
  },
  {
   "cell_type": "code",
   "execution_count": 4,
   "id": "427cfdaf",
   "metadata": {},
   "outputs": [
    {
     "data": {
      "text/html": [
       "<div>\n",
       "<style scoped>\n",
       "    .dataframe tbody tr th:only-of-type {\n",
       "        vertical-align: middle;\n",
       "    }\n",
       "\n",
       "    .dataframe tbody tr th {\n",
       "        vertical-align: top;\n",
       "    }\n",
       "\n",
       "    .dataframe thead th {\n",
       "        text-align: right;\n",
       "    }\n",
       "</style>\n",
       "<table border=\"1\" class=\"dataframe\">\n",
       "  <thead>\n",
       "    <tr style=\"text-align: right;\">\n",
       "      <th></th>\n",
       "      <th>id</th>\n",
       "      <th>member_id</th>\n",
       "      <th>loan_amnt</th>\n",
       "      <th>funded_amnt</th>\n",
       "      <th>funded_amnt_inv</th>\n",
       "      <th>term</th>\n",
       "      <th>int_rate</th>\n",
       "      <th>installment</th>\n",
       "      <th>grade</th>\n",
       "      <th>sub_grade</th>\n",
       "      <th>...</th>\n",
       "      <th>num_tl_90g_dpd_24m</th>\n",
       "      <th>num_tl_op_past_12m</th>\n",
       "      <th>pct_tl_nvr_dlq</th>\n",
       "      <th>percent_bc_gt_75</th>\n",
       "      <th>pub_rec_bankruptcies</th>\n",
       "      <th>tax_liens</th>\n",
       "      <th>tot_hi_cred_lim</th>\n",
       "      <th>total_bal_ex_mort</th>\n",
       "      <th>total_bc_limit</th>\n",
       "      <th>total_il_high_credit_limit</th>\n",
       "    </tr>\n",
       "  </thead>\n",
       "  <tbody>\n",
       "    <tr>\n",
       "      <th>0</th>\n",
       "      <td>1077501</td>\n",
       "      <td>1296599</td>\n",
       "      <td>5000</td>\n",
       "      <td>5000</td>\n",
       "      <td>4975.0</td>\n",
       "      <td>36 months</td>\n",
       "      <td>10.65%</td>\n",
       "      <td>162.87</td>\n",
       "      <td>B</td>\n",
       "      <td>B2</td>\n",
       "      <td>...</td>\n",
       "      <td>NaN</td>\n",
       "      <td>NaN</td>\n",
       "      <td>NaN</td>\n",
       "      <td>NaN</td>\n",
       "      <td>0.0</td>\n",
       "      <td>0.0</td>\n",
       "      <td>NaN</td>\n",
       "      <td>NaN</td>\n",
       "      <td>NaN</td>\n",
       "      <td>NaN</td>\n",
       "    </tr>\n",
       "    <tr>\n",
       "      <th>1</th>\n",
       "      <td>1077430</td>\n",
       "      <td>1314167</td>\n",
       "      <td>2500</td>\n",
       "      <td>2500</td>\n",
       "      <td>2500.0</td>\n",
       "      <td>60 months</td>\n",
       "      <td>15.27%</td>\n",
       "      <td>59.83</td>\n",
       "      <td>C</td>\n",
       "      <td>C4</td>\n",
       "      <td>...</td>\n",
       "      <td>NaN</td>\n",
       "      <td>NaN</td>\n",
       "      <td>NaN</td>\n",
       "      <td>NaN</td>\n",
       "      <td>0.0</td>\n",
       "      <td>0.0</td>\n",
       "      <td>NaN</td>\n",
       "      <td>NaN</td>\n",
       "      <td>NaN</td>\n",
       "      <td>NaN</td>\n",
       "    </tr>\n",
       "    <tr>\n",
       "      <th>2</th>\n",
       "      <td>1077175</td>\n",
       "      <td>1313524</td>\n",
       "      <td>2400</td>\n",
       "      <td>2400</td>\n",
       "      <td>2400.0</td>\n",
       "      <td>36 months</td>\n",
       "      <td>15.96%</td>\n",
       "      <td>84.33</td>\n",
       "      <td>C</td>\n",
       "      <td>C5</td>\n",
       "      <td>...</td>\n",
       "      <td>NaN</td>\n",
       "      <td>NaN</td>\n",
       "      <td>NaN</td>\n",
       "      <td>NaN</td>\n",
       "      <td>0.0</td>\n",
       "      <td>0.0</td>\n",
       "      <td>NaN</td>\n",
       "      <td>NaN</td>\n",
       "      <td>NaN</td>\n",
       "      <td>NaN</td>\n",
       "    </tr>\n",
       "    <tr>\n",
       "      <th>3</th>\n",
       "      <td>1076863</td>\n",
       "      <td>1277178</td>\n",
       "      <td>10000</td>\n",
       "      <td>10000</td>\n",
       "      <td>10000.0</td>\n",
       "      <td>36 months</td>\n",
       "      <td>13.49%</td>\n",
       "      <td>339.31</td>\n",
       "      <td>C</td>\n",
       "      <td>C1</td>\n",
       "      <td>...</td>\n",
       "      <td>NaN</td>\n",
       "      <td>NaN</td>\n",
       "      <td>NaN</td>\n",
       "      <td>NaN</td>\n",
       "      <td>0.0</td>\n",
       "      <td>0.0</td>\n",
       "      <td>NaN</td>\n",
       "      <td>NaN</td>\n",
       "      <td>NaN</td>\n",
       "      <td>NaN</td>\n",
       "    </tr>\n",
       "    <tr>\n",
       "      <th>4</th>\n",
       "      <td>1075358</td>\n",
       "      <td>1311748</td>\n",
       "      <td>3000</td>\n",
       "      <td>3000</td>\n",
       "      <td>3000.0</td>\n",
       "      <td>60 months</td>\n",
       "      <td>12.69%</td>\n",
       "      <td>67.79</td>\n",
       "      <td>B</td>\n",
       "      <td>B5</td>\n",
       "      <td>...</td>\n",
       "      <td>NaN</td>\n",
       "      <td>NaN</td>\n",
       "      <td>NaN</td>\n",
       "      <td>NaN</td>\n",
       "      <td>0.0</td>\n",
       "      <td>0.0</td>\n",
       "      <td>NaN</td>\n",
       "      <td>NaN</td>\n",
       "      <td>NaN</td>\n",
       "      <td>NaN</td>\n",
       "    </tr>\n",
       "  </tbody>\n",
       "</table>\n",
       "<p>5 rows × 111 columns</p>\n",
       "</div>"
      ],
      "text/plain": [
       "        id  member_id  loan_amnt  funded_amnt  funded_amnt_inv        term  \\\n",
       "0  1077501    1296599       5000         5000           4975.0   36 months   \n",
       "1  1077430    1314167       2500         2500           2500.0   60 months   \n",
       "2  1077175    1313524       2400         2400           2400.0   36 months   \n",
       "3  1076863    1277178      10000        10000          10000.0   36 months   \n",
       "4  1075358    1311748       3000         3000           3000.0   60 months   \n",
       "\n",
       "  int_rate  installment grade sub_grade  ... num_tl_90g_dpd_24m  \\\n",
       "0   10.65%       162.87     B        B2  ...                NaN   \n",
       "1   15.27%        59.83     C        C4  ...                NaN   \n",
       "2   15.96%        84.33     C        C5  ...                NaN   \n",
       "3   13.49%       339.31     C        C1  ...                NaN   \n",
       "4   12.69%        67.79     B        B5  ...                NaN   \n",
       "\n",
       "  num_tl_op_past_12m pct_tl_nvr_dlq  percent_bc_gt_75 pub_rec_bankruptcies  \\\n",
       "0                NaN            NaN               NaN                  0.0   \n",
       "1                NaN            NaN               NaN                  0.0   \n",
       "2                NaN            NaN               NaN                  0.0   \n",
       "3                NaN            NaN               NaN                  0.0   \n",
       "4                NaN            NaN               NaN                  0.0   \n",
       "\n",
       "  tax_liens tot_hi_cred_lim total_bal_ex_mort total_bc_limit  \\\n",
       "0       0.0             NaN               NaN            NaN   \n",
       "1       0.0             NaN               NaN            NaN   \n",
       "2       0.0             NaN               NaN            NaN   \n",
       "3       0.0             NaN               NaN            NaN   \n",
       "4       0.0             NaN               NaN            NaN   \n",
       "\n",
       "  total_il_high_credit_limit  \n",
       "0                        NaN  \n",
       "1                        NaN  \n",
       "2                        NaN  \n",
       "3                        NaN  \n",
       "4                        NaN  \n",
       "\n",
       "[5 rows x 111 columns]"
      ]
     },
     "execution_count": 4,
     "metadata": {},
     "output_type": "execute_result"
    }
   ],
   "source": [
    "dfloan.head()"
   ]
  },
  {
   "cell_type": "code",
   "execution_count": 5,
   "id": "362ac2ce",
   "metadata": {},
   "outputs": [
    {
     "data": {
      "text/plain": [
       "(39717, 111)"
      ]
     },
     "execution_count": 5,
     "metadata": {},
     "output_type": "execute_result"
    }
   ],
   "source": [
    "#funded amount should not be greater than loan amount\n",
    "dfloan[dfloan[\"loan_amnt\"] >= dfloan[\"funded_amnt\"]].shape"
   ]
  },
  {
   "cell_type": "code",
   "execution_count": 6,
   "id": "dd1702ed",
   "metadata": {},
   "outputs": [
    {
     "data": {
      "text/plain": [
       "(39717, 111)"
      ]
     },
     "execution_count": 6,
     "metadata": {},
     "output_type": "execute_result"
    }
   ],
   "source": [
    "#funded invest amount should not be greater than loan amount\n",
    "dfloan[dfloan[\"loan_amnt\"] >= dfloan[\"funded_amnt_inv\"]].shape"
   ]
  },
  {
   "cell_type": "code",
   "execution_count": 7,
   "id": "5566f85f",
   "metadata": {},
   "outputs": [
    {
     "data": {
      "text/plain": [
       "(39717, 111)"
      ]
     },
     "execution_count": 7,
     "metadata": {},
     "output_type": "execute_result"
    }
   ],
   "source": [
    "#subgrade first letter must match with grade  like if subgrade is B2 then grade is B\n",
    "dfloan[dfloan.grade == dfloan.sub_grade.str[0]].shape"
   ]
  },
  {
   "cell_type": "code",
   "execution_count": 8,
   "id": "edbb49a1",
   "metadata": {},
   "outputs": [
    {
     "data": {
      "text/plain": [
       "id                              int64\n",
       "member_id                       int64\n",
       "loan_amnt                       int64\n",
       "funded_amnt                     int64\n",
       "funded_amnt_inv               float64\n",
       "                               ...   \n",
       "tax_liens                     float64\n",
       "tot_hi_cred_lim               float64\n",
       "total_bal_ex_mort             float64\n",
       "total_bc_limit                float64\n",
       "total_il_high_credit_limit    float64\n",
       "Length: 111, dtype: object"
      ]
     },
     "execution_count": 8,
     "metadata": {},
     "output_type": "execute_result"
    }
   ],
   "source": [
    "dfloan.dtypes"
   ]
  },
  {
   "cell_type": "markdown",
   "id": "034b086f",
   "metadata": {},
   "source": [
    "# Data cleaning, Missing Value Imputation & Outlier Treatment"
   ]
  },
  {
   "cell_type": "code",
   "execution_count": 9,
   "id": "c1bb0775",
   "metadata": {},
   "outputs": [
    {
     "data": {
      "text/plain": [
       "id                                0\n",
       "member_id                         0\n",
       "loan_amnt                         0\n",
       "funded_amnt                       0\n",
       "funded_amnt_inv                   0\n",
       "                              ...  \n",
       "tax_liens                        39\n",
       "tot_hi_cred_lim               39717\n",
       "total_bal_ex_mort             39717\n",
       "total_bc_limit                39717\n",
       "total_il_high_credit_limit    39717\n",
       "Length: 111, dtype: int64"
      ]
     },
     "execution_count": 9,
     "metadata": {},
     "output_type": "execute_result"
    }
   ],
   "source": [
    "dfloan.isnull().sum()"
   ]
  },
  {
   "cell_type": "markdown",
   "id": "1e209acf",
   "metadata": {},
   "source": [
    "##### We observed that few columns donot have any data in them; all values are null so dropping them"
   ]
  },
  {
   "cell_type": "code",
   "execution_count": 10,
   "id": "08673be6",
   "metadata": {},
   "outputs": [
    {
     "data": {
      "text/plain": [
       "(39717, 57)"
      ]
     },
     "execution_count": 10,
     "metadata": {},
     "output_type": "execute_result"
    }
   ],
   "source": [
    "dfloan = dfloan.drop(columns=dfloan.loc[:,dfloan.isnull().sum() == 39717].columns)\n",
    "dfloan.shape"
   ]
  },
  {
   "cell_type": "code",
   "execution_count": 11,
   "id": "77125a48-4651-4c86-a05e-53d5498fa732",
   "metadata": {},
   "outputs": [
    {
     "data": {
      "text/plain": [
       "54"
      ]
     },
     "execution_count": 11,
     "metadata": {},
     "output_type": "execute_result"
    }
   ],
   "source": [
    "111 - 57"
   ]
  },
  {
   "cell_type": "markdown",
   "id": "b32dd48e-9afe-4e3c-99dc-2b404926be16",
   "metadata": {},
   "source": [
    "##### Earlier we had 111 columns; now we see 57 columns that means <i><b> 54 columns had all null values."
   ]
  },
  {
   "cell_type": "code",
   "execution_count": 12,
   "id": "c07d314e",
   "metadata": {},
   "outputs": [
    {
     "data": {
      "text/plain": [
       "id                                0\n",
       "member_id                         0\n",
       "loan_amnt                         0\n",
       "funded_amnt                       0\n",
       "funded_amnt_inv                   0\n",
       "term                              0\n",
       "int_rate                          0\n",
       "installment                       0\n",
       "grade                             0\n",
       "sub_grade                         0\n",
       "emp_title                      2459\n",
       "emp_length                     1075\n",
       "home_ownership                    0\n",
       "annual_inc                        0\n",
       "verification_status               0\n",
       "issue_d                           0\n",
       "loan_status                       0\n",
       "pymnt_plan                        0\n",
       "url                               0\n",
       "desc                          12940\n",
       "purpose                           0\n",
       "title                            11\n",
       "zip_code                          0\n",
       "addr_state                        0\n",
       "dti                               0\n",
       "delinq_2yrs                       0\n",
       "earliest_cr_line                  0\n",
       "inq_last_6mths                    0\n",
       "mths_since_last_delinq        25682\n",
       "mths_since_last_record        36931\n",
       "open_acc                          0\n",
       "pub_rec                           0\n",
       "revol_bal                         0\n",
       "revol_util                       50\n",
       "total_acc                         0\n",
       "initial_list_status               0\n",
       "out_prncp                         0\n",
       "out_prncp_inv                     0\n",
       "total_pymnt                       0\n",
       "total_pymnt_inv                   0\n",
       "total_rec_prncp                   0\n",
       "total_rec_int                     0\n",
       "total_rec_late_fee                0\n",
       "recoveries                        0\n",
       "collection_recovery_fee           0\n",
       "last_pymnt_d                     71\n",
       "last_pymnt_amnt                   0\n",
       "next_pymnt_d                  38577\n",
       "last_credit_pull_d                2\n",
       "collections_12_mths_ex_med       56\n",
       "policy_code                       0\n",
       "application_type                  0\n",
       "acc_now_delinq                    0\n",
       "chargeoff_within_12_mths         56\n",
       "delinq_amnt                       0\n",
       "pub_rec_bankruptcies            697\n",
       "tax_liens                        39\n",
       "dtype: int64"
      ]
     },
     "execution_count": 12,
     "metadata": {},
     "output_type": "execute_result"
    }
   ],
   "source": [
    "dfloan.isnull().sum()"
   ]
  },
  {
   "cell_type": "markdown",
   "id": "203e6074",
   "metadata": {},
   "source": [
    "##### next_pymnt_d, mths_since_last_record, mths_since_last_delinq has more than 90% null values, so we are dropping these columns                "
   ]
  },
  {
   "cell_type": "code",
   "execution_count": 13,
   "id": "fa2a3bb6",
   "metadata": {},
   "outputs": [
    {
     "data": {
      "text/plain": [
       "(39717, 54)"
      ]
     },
     "execution_count": 13,
     "metadata": {},
     "output_type": "execute_result"
    }
   ],
   "source": [
    "dfloan = dfloan.drop(columns=dfloan.loc[:,dfloan.isnull().sum() > 25000].columns)\n",
    "dfloan.shape"
   ]
  },
  {
   "cell_type": "code",
   "execution_count": 14,
   "id": "e57b00da",
   "metadata": {},
   "outputs": [
    {
     "data": {
      "text/plain": [
       "id                                0\n",
       "member_id                         0\n",
       "loan_amnt                         0\n",
       "funded_amnt                       0\n",
       "funded_amnt_inv                   0\n",
       "term                              0\n",
       "int_rate                          0\n",
       "installment                       0\n",
       "grade                             0\n",
       "sub_grade                         0\n",
       "emp_title                      2459\n",
       "emp_length                     1075\n",
       "home_ownership                    0\n",
       "annual_inc                        0\n",
       "verification_status               0\n",
       "issue_d                           0\n",
       "loan_status                       0\n",
       "pymnt_plan                        0\n",
       "url                               0\n",
       "desc                          12940\n",
       "purpose                           0\n",
       "title                            11\n",
       "zip_code                          0\n",
       "addr_state                        0\n",
       "dti                               0\n",
       "delinq_2yrs                       0\n",
       "earliest_cr_line                  0\n",
       "inq_last_6mths                    0\n",
       "open_acc                          0\n",
       "pub_rec                           0\n",
       "revol_bal                         0\n",
       "revol_util                       50\n",
       "total_acc                         0\n",
       "initial_list_status               0\n",
       "out_prncp                         0\n",
       "out_prncp_inv                     0\n",
       "total_pymnt                       0\n",
       "total_pymnt_inv                   0\n",
       "total_rec_prncp                   0\n",
       "total_rec_int                     0\n",
       "total_rec_late_fee                0\n",
       "recoveries                        0\n",
       "collection_recovery_fee           0\n",
       "last_pymnt_d                     71\n",
       "last_pymnt_amnt                   0\n",
       "last_credit_pull_d                2\n",
       "collections_12_mths_ex_med       56\n",
       "policy_code                       0\n",
       "application_type                  0\n",
       "acc_now_delinq                    0\n",
       "chargeoff_within_12_mths         56\n",
       "delinq_amnt                       0\n",
       "pub_rec_bankruptcies            697\n",
       "tax_liens                        39\n",
       "dtype: int64"
      ]
     },
     "execution_count": 14,
     "metadata": {},
     "output_type": "execute_result"
    }
   ],
   "source": [
    "dfloan.isnull().sum()"
   ]
  },
  {
   "cell_type": "markdown",
   "id": "d079300e-5402-4cf6-8950-341a9192ee2a",
   "metadata": {},
   "source": [
    "##### url is uniquely indentifialble with the id in the str which is same as member id, similarly title and desc donot add any additional info so dropping these columns "
   ]
  },
  {
   "cell_type": "code",
   "execution_count": 15,
   "id": "dcf75bbf",
   "metadata": {},
   "outputs": [
    {
     "data": {
      "text/plain": [
       "(39717, 51)"
      ]
     },
     "execution_count": 15,
     "metadata": {},
     "output_type": "execute_result"
    }
   ],
   "source": [
    "dfloan = dfloan.drop(columns=['url','desc','title'])\n",
    "dfloan.shape"
   ]
  },
  {
   "cell_type": "code",
   "execution_count": 16,
   "id": "11a725c5",
   "metadata": {},
   "outputs": [
    {
     "data": {
      "text/plain": [
       "2459"
      ]
     },
     "execution_count": 16,
     "metadata": {},
     "output_type": "execute_result"
    }
   ],
   "source": [
    "dfloan.emp_title.isnull().sum()"
   ]
  },
  {
   "cell_type": "markdown",
   "id": "062df6d7-79ef-4157-852a-62ab2aa3081b",
   "metadata": {},
   "source": [
    "##### more than 60% of records in the emp_title column are null so creating new category as \"No Title\""
   ]
  },
  {
   "cell_type": "code",
   "execution_count": 17,
   "id": "3a205b89",
   "metadata": {},
   "outputs": [
    {
     "data": {
      "text/plain": [
       "No Title                                    2459\n",
       "US Army                                      134\n",
       "Bank of America                              109\n",
       "IBM                                           66\n",
       "AT&T                                          59\n",
       "                                            ... \n",
       "Gastroenterology Consultants of Savannah       1\n",
       "Productive Data Solutions Inc                  1\n",
       "Santa Maria Software                           1\n",
       "exclusive autoline inc                         1\n",
       "Caparros Corporation                           1\n",
       "Name: emp_title, Length: 28821, dtype: int64"
      ]
     },
     "execution_count": 17,
     "metadata": {},
     "output_type": "execute_result"
    }
   ],
   "source": [
    "dfloan[\"emp_title\"] = dfloan[\"emp_title\"].fillna('No Title')\n",
    "dfloan.emp_title.value_counts()"
   ]
  },
  {
   "cell_type": "code",
   "execution_count": 18,
   "id": "8bbfc9b9",
   "metadata": {},
   "outputs": [
    {
     "data": {
      "text/plain": [
       "10+ years    8879\n",
       "< 1 year     4583\n",
       "2 years      4388\n",
       "3 years      4095\n",
       "4 years      3436\n",
       "5 years      3282\n",
       "1 year       3240\n",
       "6 years      2229\n",
       "7 years      1773\n",
       "8 years      1479\n",
       "9 years      1258\n",
       "Name: emp_length, dtype: int64"
      ]
     },
     "execution_count": 18,
     "metadata": {},
     "output_type": "execute_result"
    }
   ],
   "source": [
    "dfloan.emp_length.value_counts()"
   ]
  },
  {
   "cell_type": "markdown",
   "id": "9cc543e2-5880-4d8a-ae5a-b74492888d3e",
   "metadata": {},
   "source": [
    "##### emp_lenght has too many junk characters in its values such as (>, <, years, year) we need to eliminate these to have a standard integer data in it"
   ]
  },
  {
   "cell_type": "code",
   "execution_count": 19,
   "id": "9e40c530",
   "metadata": {},
   "outputs": [
    {
     "name": "stderr",
     "output_type": "stream",
     "text": [
      "<ipython-input-19-fd82b6d32ddd>:3: FutureWarning: The default value of regex will change from True to False in a future version. In addition, single character regular expressions will*not* be treated as literal strings when regex=True.\n",
      "  dfloan[\"emp_length\"] = dfloan[\"emp_length\"].str.replace('+','')\n"
     ]
    }
   ],
   "source": [
    "dfloan[\"emp_length\"] = dfloan[\"emp_length\"].str.replace(' years','')\n",
    "dfloan[\"emp_length\"] = dfloan[\"emp_length\"].str.replace(' year','')\n",
    "dfloan[\"emp_length\"] = dfloan[\"emp_length\"].str.replace('+','')\n",
    "dfloan[\"emp_length\"] = dfloan[\"emp_length\"].str.replace('< ','')"
   ]
  },
  {
   "cell_type": "code",
   "execution_count": 20,
   "id": "dbc55ea4",
   "metadata": {},
   "outputs": [
    {
     "data": {
      "text/plain": [
       "10    8879\n",
       "1     7823\n",
       "2     4388\n",
       "3     4095\n",
       "4     3436\n",
       "5     3282\n",
       "6     2229\n",
       "7     1773\n",
       "8     1479\n",
       "9     1258\n",
       "Name: emp_length, dtype: int64"
      ]
     },
     "execution_count": 20,
     "metadata": {},
     "output_type": "execute_result"
    }
   ],
   "source": [
    "dfloan.emp_length.value_counts()"
   ]
  },
  {
   "cell_type": "code",
   "execution_count": 21,
   "id": "57095270",
   "metadata": {},
   "outputs": [
    {
     "data": {
      "text/plain": [
       "id                               0\n",
       "member_id                        0\n",
       "loan_amnt                        0\n",
       "funded_amnt                      0\n",
       "funded_amnt_inv                  0\n",
       "term                             0\n",
       "int_rate                         0\n",
       "installment                      0\n",
       "grade                            0\n",
       "sub_grade                        0\n",
       "emp_title                        0\n",
       "emp_length                    1075\n",
       "home_ownership                   0\n",
       "annual_inc                       0\n",
       "verification_status              0\n",
       "issue_d                          0\n",
       "loan_status                      0\n",
       "pymnt_plan                       0\n",
       "purpose                          0\n",
       "zip_code                         0\n",
       "addr_state                       0\n",
       "dti                              0\n",
       "delinq_2yrs                      0\n",
       "earliest_cr_line                 0\n",
       "inq_last_6mths                   0\n",
       "open_acc                         0\n",
       "pub_rec                          0\n",
       "revol_bal                        0\n",
       "revol_util                      50\n",
       "total_acc                        0\n",
       "initial_list_status              0\n",
       "out_prncp                        0\n",
       "out_prncp_inv                    0\n",
       "total_pymnt                      0\n",
       "total_pymnt_inv                  0\n",
       "total_rec_prncp                  0\n",
       "total_rec_int                    0\n",
       "total_rec_late_fee               0\n",
       "recoveries                       0\n",
       "collection_recovery_fee          0\n",
       "last_pymnt_d                    71\n",
       "last_pymnt_amnt                  0\n",
       "last_credit_pull_d               2\n",
       "collections_12_mths_ex_med      56\n",
       "policy_code                      0\n",
       "application_type                 0\n",
       "acc_now_delinq                   0\n",
       "chargeoff_within_12_mths        56\n",
       "delinq_amnt                      0\n",
       "pub_rec_bankruptcies           697\n",
       "tax_liens                       39\n",
       "dtype: int64"
      ]
     },
     "execution_count": 21,
     "metadata": {},
     "output_type": "execute_result"
    }
   ],
   "source": [
    "dfloan.isnull().sum()"
   ]
  },
  {
   "cell_type": "code",
   "execution_count": 22,
   "id": "02156aa8",
   "metadata": {},
   "outputs": [
    {
     "data": {
      "text/plain": [
       "2.7066495455346575"
      ]
     },
     "execution_count": 22,
     "metadata": {},
     "output_type": "execute_result"
    }
   ],
   "source": [
    "#1075 records of emp_length column are null i.e equivalent to 3% of total records\n",
    "100 * dfloan.emp_length.isnull().sum() /dfloan.shape[0] "
   ]
  },
  {
   "cell_type": "code",
   "execution_count": 23,
   "id": "d5b3fc4e-64b7-46d7-8f32-af53ff75efaf",
   "metadata": {},
   "outputs": [
    {
     "data": {
      "text/plain": [
       "4.0"
      ]
     },
     "execution_count": 23,
     "metadata": {},
     "output_type": "execute_result"
    }
   ],
   "source": [
    "dfloan[\"emp_length\"].median()"
   ]
  },
  {
   "cell_type": "markdown",
   "id": "a2c5d106-4c19-44b6-97a4-219a037d856f",
   "metadata": {},
   "source": [
    "##### Although median is 4, only 3% data is null in emp_lenght column and to avoid any bias replacing these null values with 0"
   ]
  },
  {
   "cell_type": "code",
   "execution_count": 24,
   "id": "60b75c58",
   "metadata": {},
   "outputs": [],
   "source": [
    "#only 3 percentage data is null so we can replace with zero\n",
    "dfloan[\"emp_length\"] = dfloan[\"emp_length\"].fillna(0)"
   ]
  },
  {
   "cell_type": "code",
   "execution_count": 25,
   "id": "7fa4478c",
   "metadata": {},
   "outputs": [],
   "source": [
    "#changing dtype from object to int32\n",
    "dfloan[\"emp_length\"]  = dfloan[\"emp_length\"].astype(\"int32\")"
   ]
  },
  {
   "cell_type": "code",
   "execution_count": 26,
   "id": "f8c99e49-ca07-459f-8215-d928786fdcdf",
   "metadata": {},
   "outputs": [
    {
     "data": {
      "text/plain": [
       "id                              0\n",
       "member_id                       0\n",
       "loan_amnt                       0\n",
       "funded_amnt                     0\n",
       "funded_amnt_inv                 0\n",
       "term                            0\n",
       "int_rate                        0\n",
       "installment                     0\n",
       "grade                           0\n",
       "sub_grade                       0\n",
       "emp_title                       0\n",
       "emp_length                      0\n",
       "home_ownership                  0\n",
       "annual_inc                      0\n",
       "verification_status             0\n",
       "issue_d                         0\n",
       "loan_status                     0\n",
       "pymnt_plan                      0\n",
       "purpose                         0\n",
       "zip_code                        0\n",
       "addr_state                      0\n",
       "dti                             0\n",
       "delinq_2yrs                     0\n",
       "earliest_cr_line                0\n",
       "inq_last_6mths                  0\n",
       "open_acc                        0\n",
       "pub_rec                         0\n",
       "revol_bal                       0\n",
       "revol_util                     50\n",
       "total_acc                       0\n",
       "initial_list_status             0\n",
       "out_prncp                       0\n",
       "out_prncp_inv                   0\n",
       "total_pymnt                     0\n",
       "total_pymnt_inv                 0\n",
       "total_rec_prncp                 0\n",
       "total_rec_int                   0\n",
       "total_rec_late_fee              0\n",
       "recoveries                      0\n",
       "collection_recovery_fee         0\n",
       "last_pymnt_d                   71\n",
       "last_pymnt_amnt                 0\n",
       "last_credit_pull_d              2\n",
       "collections_12_mths_ex_med     56\n",
       "policy_code                     0\n",
       "application_type                0\n",
       "acc_now_delinq                  0\n",
       "chargeoff_within_12_mths       56\n",
       "delinq_amnt                     0\n",
       "pub_rec_bankruptcies          697\n",
       "tax_liens                      39\n",
       "dtype: int64"
      ]
     },
     "execution_count": 26,
     "metadata": {},
     "output_type": "execute_result"
    }
   ],
   "source": [
    "dfloan.isnull().sum()"
   ]
  },
  {
   "cell_type": "markdown",
   "id": "3def1612-4e99-47b0-9fa2-43e2b6a30db6",
   "metadata": {},
   "source": [
    "##### revol_util has 50 null records. Replacing missing values with 0"
   ]
  },
  {
   "cell_type": "code",
   "execution_count": 27,
   "id": "05021a1a",
   "metadata": {},
   "outputs": [],
   "source": [
    "dfloan[\"revol_util\"] = dfloan[\"revol_util\"].fillna(0.0)"
   ]
  },
  {
   "cell_type": "code",
   "execution_count": 28,
   "id": "d9be62a7",
   "metadata": {},
   "outputs": [
    {
     "data": {
      "text/plain": [
       "last_pymnt_d                   71\n",
       "last_credit_pull_d              2\n",
       "collections_12_mths_ex_med     56\n",
       "chargeoff_within_12_mths       56\n",
       "pub_rec_bankruptcies          697\n",
       "tax_liens                      39\n",
       "dtype: int64"
      ]
     },
     "execution_count": 28,
     "metadata": {},
     "output_type": "execute_result"
    }
   ],
   "source": [
    "dfloan.loc[:,dfloan.isnull().sum() > 0].isnull().sum()"
   ]
  },
  {
   "cell_type": "markdown",
   "id": "97cb2f78-f31b-4751-ab1b-4d277a24979a",
   "metadata": {},
   "source": [
    "##### As less than 1% data of last_pymnt_d had null values we are dropping rows where last_pymnt_d is null"
   ]
  },
  {
   "cell_type": "code",
   "execution_count": 29,
   "id": "0bc39ae6-d155-41e3-b6a9-ca751573478b",
   "metadata": {},
   "outputs": [
    {
     "data": {
      "text/plain": [
       "71"
      ]
     },
     "execution_count": 29,
     "metadata": {},
     "output_type": "execute_result"
    }
   ],
   "source": [
    "dfloan.last_pymnt_d.isnull().sum()"
   ]
  },
  {
   "cell_type": "code",
   "execution_count": 30,
   "id": "9d61c3da",
   "metadata": {},
   "outputs": [],
   "source": [
    "dfloan = dfloan[~dfloan.last_pymnt_d.isnull()]"
   ]
  },
  {
   "cell_type": "code",
   "execution_count": 31,
   "id": "bc5c4262",
   "metadata": {},
   "outputs": [
    {
     "data": {
      "text/plain": [
       "0"
      ]
     },
     "execution_count": 31,
     "metadata": {},
     "output_type": "execute_result"
    }
   ],
   "source": [
    "dfloan.last_pymnt_d.isnull().sum()"
   ]
  },
  {
   "cell_type": "code",
   "execution_count": 32,
   "id": "663912f7-4daf-42fe-b21a-382d7542f3b9",
   "metadata": {},
   "outputs": [
    {
     "data": {
      "text/plain": [
       "last_credit_pull_d              2\n",
       "collections_12_mths_ex_med     56\n",
       "chargeoff_within_12_mths       56\n",
       "pub_rec_bankruptcies          697\n",
       "tax_liens                      39\n",
       "dtype: int64"
      ]
     },
     "execution_count": 32,
     "metadata": {},
     "output_type": "execute_result"
    }
   ],
   "source": [
    "dfloan.loc[:,dfloan.isnull().sum() > 0].isnull().sum()"
   ]
  },
  {
   "cell_type": "code",
   "execution_count": 33,
   "id": "3260ff2d",
   "metadata": {},
   "outputs": [],
   "source": [
    "# only 2 values in last_credit_pull_d col are null so dropping them\n",
    "dfloan = dfloan[~dfloan.last_credit_pull_d.isnull()]"
   ]
  },
  {
   "cell_type": "markdown",
   "id": "067f2c4d-cced-458e-a894-ab2f1f80df12",
   "metadata": {},
   "source": [
    "##### Below columns have only one value that is 0 so we can drop these columns \n",
    "Columns: collections_12_mths_ex_med, chargeoff_within_12_mths, tax_liens"
   ]
  },
  {
   "cell_type": "code",
   "execution_count": 34,
   "id": "5c9b2401",
   "metadata": {},
   "outputs": [
    {
     "name": "stdout",
     "output_type": "stream",
     "text": [
      "--->Column name: collections_12_mths_ex_med \n",
      "--->value is:\n",
      "0.0    39588\n",
      "Name: collections_12_mths_ex_med, dtype: int64\n",
      "--->Column name: chargeoff_within_12_mths \n",
      "--->value is:\n",
      "0.0    39588\n",
      "Name: chargeoff_within_12_mths, dtype: int64\n",
      "--->Column name: tax_liens \n",
      "--->value is:\n",
      "0.0    39605\n",
      "Name: tax_liens, dtype: int64\n"
     ]
    }
   ],
   "source": [
    "for i in ('collections_12_mths_ex_med', 'chargeoff_within_12_mths', 'tax_liens'):\n",
    "    x = dfloan[i].value_counts()\n",
    "    print(f\"--->Column name: {i} \\n--->value is:\\n{x}\")\n"
   ]
  },
  {
   "cell_type": "code",
   "execution_count": 35,
   "id": "558668a5",
   "metadata": {},
   "outputs": [],
   "source": [
    "#those columns values are zero\n",
    "dfloan = dfloan.drop(columns=['collections_12_mths_ex_med','chargeoff_within_12_mths','tax_liens'])"
   ]
  },
  {
   "cell_type": "code",
   "execution_count": 36,
   "id": "39e4f81d-d1e4-42ac-8982-98b87427634f",
   "metadata": {},
   "outputs": [
    {
     "data": {
      "text/plain": [
       "pub_rec_bankruptcies    696\n",
       "dtype: int64"
      ]
     },
     "execution_count": 36,
     "metadata": {},
     "output_type": "execute_result"
    }
   ],
   "source": [
    "dfloan.loc[:,dfloan.isnull().sum() > 0].isnull().sum()"
   ]
  },
  {
   "cell_type": "code",
   "execution_count": 37,
   "id": "49484a98-7c61-49d4-945f-c1da14f32322",
   "metadata": {},
   "outputs": [
    {
     "data": {
      "text/plain": [
       "0.0    37273\n",
       "1.0     1668\n",
       "2.0        7\n",
       "Name: pub_rec_bankruptcies, dtype: int64"
      ]
     },
     "execution_count": 37,
     "metadata": {},
     "output_type": "execute_result"
    }
   ],
   "source": [
    "dfloan.pub_rec_bankruptcies.value_counts()"
   ]
  },
  {
   "cell_type": "code",
   "execution_count": 38,
   "id": "3d33c6bd",
   "metadata": {},
   "outputs": [],
   "source": [
    "#Imputing missing data with the median value\n",
    "dfloan[\"pub_rec_bankruptcies\"] = dfloan[\"pub_rec_bankruptcies\"].fillna(dfloan.pub_rec_bankruptcies.median()) "
   ]
  },
  {
   "cell_type": "code",
   "execution_count": 39,
   "id": "3ef3e164",
   "metadata": {},
   "outputs": [
    {
     "data": {
      "text/plain": [
       "Series([], dtype: float64)"
      ]
     },
     "execution_count": 39,
     "metadata": {},
     "output_type": "execute_result"
    }
   ],
   "source": [
    "dfloan.loc[:,dfloan.isnull().sum() > 0].isnull().sum()"
   ]
  },
  {
   "cell_type": "code",
   "execution_count": 40,
   "id": "097a4134",
   "metadata": {},
   "outputs": [
    {
     "data": {
      "text/plain": [
       "(39644, 48)"
      ]
     },
     "execution_count": 40,
     "metadata": {},
     "output_type": "execute_result"
    }
   ],
   "source": [
    "dfloan.shape"
   ]
  },
  {
   "cell_type": "code",
   "execution_count": 41,
   "id": "e8038eec",
   "metadata": {},
   "outputs": [
    {
     "data": {
      "text/plain": [
       " 36 months    29041\n",
       " 60 months    10603\n",
       "Name: term, dtype: int64"
      ]
     },
     "execution_count": 41,
     "metadata": {},
     "output_type": "execute_result"
    }
   ],
   "source": [
    "dfloan.term.value_counts()"
   ]
  },
  {
   "cell_type": "code",
   "execution_count": 42,
   "id": "b291ff8f",
   "metadata": {},
   "outputs": [],
   "source": [
    "#Removing months string form the records in term column\n",
    "dfloan[\"term\"] = dfloan[\"term\"].str.replace(' months','')"
   ]
  },
  {
   "cell_type": "code",
   "execution_count": 43,
   "id": "9a2268b1",
   "metadata": {},
   "outputs": [],
   "source": [
    "#changing dtype to int\n",
    "dfloan[\"term\"]  = dfloan[\"term\"].astype(\"int32\")"
   ]
  },
  {
   "cell_type": "code",
   "execution_count": 44,
   "id": "284c29f2",
   "metadata": {},
   "outputs": [],
   "source": [
    "#cleaning int_rate data by removing % symbol from each record in the col\n",
    "dfloan[\"int_rate\"] = dfloan[\"int_rate\"].str.replace('%','')"
   ]
  },
  {
   "cell_type": "code",
   "execution_count": 45,
   "id": "166493ab",
   "metadata": {},
   "outputs": [],
   "source": [
    "#changing its dtype to float\n",
    "dfloan[\"int_rate\"]  = dfloan[\"int_rate\"].astype(\"float32\")"
   ]
  },
  {
   "cell_type": "code",
   "execution_count": 46,
   "id": "fbdf7df9",
   "metadata": {},
   "outputs": [
    {
     "data": {
      "text/plain": [
       "id                           int64\n",
       "member_id                    int64\n",
       "loan_amnt                    int64\n",
       "funded_amnt                  int64\n",
       "funded_amnt_inv            float64\n",
       "term                         int32\n",
       "int_rate                   float32\n",
       "installment                float64\n",
       "grade                       object\n",
       "sub_grade                   object\n",
       "emp_title                   object\n",
       "emp_length                   int32\n",
       "home_ownership              object\n",
       "annual_inc                 float64\n",
       "verification_status         object\n",
       "issue_d                     object\n",
       "loan_status                 object\n",
       "pymnt_plan                  object\n",
       "purpose                     object\n",
       "zip_code                    object\n",
       "addr_state                  object\n",
       "dti                        float64\n",
       "delinq_2yrs                  int64\n",
       "earliest_cr_line            object\n",
       "inq_last_6mths               int64\n",
       "open_acc                     int64\n",
       "pub_rec                      int64\n",
       "revol_bal                    int64\n",
       "revol_util                  object\n",
       "total_acc                    int64\n",
       "initial_list_status         object\n",
       "out_prncp                  float64\n",
       "out_prncp_inv              float64\n",
       "total_pymnt                float64\n",
       "total_pymnt_inv            float64\n",
       "total_rec_prncp            float64\n",
       "total_rec_int              float64\n",
       "total_rec_late_fee         float64\n",
       "recoveries                 float64\n",
       "collection_recovery_fee    float64\n",
       "last_pymnt_d                object\n",
       "last_pymnt_amnt            float64\n",
       "last_credit_pull_d          object\n",
       "policy_code                  int64\n",
       "application_type            object\n",
       "acc_now_delinq               int64\n",
       "delinq_amnt                  int64\n",
       "pub_rec_bankruptcies       float64\n",
       "dtype: object"
      ]
     },
     "execution_count": 46,
     "metadata": {},
     "output_type": "execute_result"
    }
   ],
   "source": [
    "dfloan.dtypes"
   ]
  },
  {
   "cell_type": "code",
   "execution_count": 47,
   "id": "93b150d3",
   "metadata": {},
   "outputs": [
    {
     "data": {
      "text/plain": [
       "id                         39644\n",
       "member_id                  39644\n",
       "loan_amnt                    885\n",
       "funded_amnt                 1041\n",
       "funded_amnt_inv             8205\n",
       "term                           2\n",
       "int_rate                     371\n",
       "installment                15365\n",
       "grade                          7\n",
       "sub_grade                     35\n",
       "emp_title                  28770\n",
       "emp_length                    11\n",
       "home_ownership                 5\n",
       "annual_inc                  5309\n",
       "verification_status            3\n",
       "issue_d                       55\n",
       "loan_status                    3\n",
       "pymnt_plan                     1\n",
       "purpose                       14\n",
       "zip_code                     823\n",
       "addr_state                    50\n",
       "dti                         2868\n",
       "delinq_2yrs                   11\n",
       "earliest_cr_line             526\n",
       "inq_last_6mths                 9\n",
       "open_acc                      40\n",
       "pub_rec                        5\n",
       "revol_bal                  21699\n",
       "revol_util                  1090\n",
       "total_acc                     82\n",
       "initial_list_status            1\n",
       "out_prncp                   1137\n",
       "out_prncp_inv               1138\n",
       "total_pymnt                37793\n",
       "total_pymnt_inv            37462\n",
       "total_rec_prncp             7975\n",
       "total_rec_int              35145\n",
       "total_rec_late_fee          1356\n",
       "recoveries                  3987\n",
       "collection_recovery_fee     2597\n",
       "last_pymnt_d                 101\n",
       "last_pymnt_amnt            34929\n",
       "last_credit_pull_d           106\n",
       "policy_code                    1\n",
       "application_type               1\n",
       "acc_now_delinq                 1\n",
       "delinq_amnt                    1\n",
       "pub_rec_bankruptcies           3\n",
       "dtype: int64"
      ]
     },
     "execution_count": 47,
     "metadata": {},
     "output_type": "execute_result"
    }
   ],
   "source": [
    "#checking no. of unique records for each column in the dataset\n",
    "dfloan.nunique()"
   ]
  },
  {
   "cell_type": "code",
   "execution_count": 48,
   "id": "c88001bc",
   "metadata": {},
   "outputs": [
    {
     "data": {
      "text/plain": [
       "(39644, 42)"
      ]
     },
     "execution_count": 48,
     "metadata": {},
     "output_type": "execute_result"
    }
   ],
   "source": [
    "# dropping columns where only 1 value for the entire column\n",
    "dfloan = dfloan.drop(columns=dfloan.loc[:,dfloan.nunique() == 1].columns)\n",
    "dfloan.shape"
   ]
  },
  {
   "cell_type": "code",
   "execution_count": 49,
   "id": "aebd0807",
   "metadata": {},
   "outputs": [
    {
     "data": {
      "text/plain": [
       "id                         39644\n",
       "member_id                  39644\n",
       "loan_amnt                    885\n",
       "funded_amnt                 1041\n",
       "funded_amnt_inv             8205\n",
       "term                           2\n",
       "int_rate                     371\n",
       "installment                15365\n",
       "grade                          7\n",
       "sub_grade                     35\n",
       "emp_title                  28770\n",
       "emp_length                    11\n",
       "home_ownership                 5\n",
       "annual_inc                  5309\n",
       "verification_status            3\n",
       "issue_d                       55\n",
       "loan_status                    3\n",
       "purpose                       14\n",
       "zip_code                     823\n",
       "addr_state                    50\n",
       "dti                         2868\n",
       "delinq_2yrs                   11\n",
       "earliest_cr_line             526\n",
       "inq_last_6mths                 9\n",
       "open_acc                      40\n",
       "pub_rec                        5\n",
       "revol_bal                  21699\n",
       "revol_util                  1090\n",
       "total_acc                     82\n",
       "out_prncp                   1137\n",
       "out_prncp_inv               1138\n",
       "total_pymnt                37793\n",
       "total_pymnt_inv            37462\n",
       "total_rec_prncp             7975\n",
       "total_rec_int              35145\n",
       "total_rec_late_fee          1356\n",
       "recoveries                  3987\n",
       "collection_recovery_fee     2597\n",
       "last_pymnt_d                 101\n",
       "last_pymnt_amnt            34929\n",
       "last_credit_pull_d           106\n",
       "pub_rec_bankruptcies           3\n",
       "dtype: int64"
      ]
     },
     "execution_count": 49,
     "metadata": {},
     "output_type": "execute_result"
    }
   ],
   "source": [
    "dfloan.nunique()"
   ]
  },
  {
   "cell_type": "code",
   "execution_count": 50,
   "id": "09180782",
   "metadata": {},
   "outputs": [
    {
     "data": {
      "text/plain": [
       "Index(['id', 'member_id', 'loan_amnt', 'funded_amnt', 'funded_amnt_inv',\n",
       "       'term', 'int_rate', 'installment', 'grade', 'sub_grade', 'emp_title',\n",
       "       'emp_length', 'home_ownership', 'annual_inc', 'verification_status',\n",
       "       'issue_d', 'loan_status', 'purpose', 'zip_code', 'addr_state', 'dti',\n",
       "       'delinq_2yrs', 'earliest_cr_line', 'inq_last_6mths', 'open_acc',\n",
       "       'pub_rec', 'revol_bal', 'revol_util', 'total_acc', 'out_prncp',\n",
       "       'out_prncp_inv', 'total_pymnt', 'total_pymnt_inv', 'total_rec_prncp',\n",
       "       'total_rec_int', 'total_rec_late_fee', 'recoveries',\n",
       "       'collection_recovery_fee', 'last_pymnt_d', 'last_pymnt_amnt',\n",
       "       'last_credit_pull_d', 'pub_rec_bankruptcies'],\n",
       "      dtype='object')"
      ]
     },
     "execution_count": 50,
     "metadata": {},
     "output_type": "execute_result"
    }
   ],
   "source": [
    "dfloan.columns"
   ]
  },
  {
   "cell_type": "code",
   "execution_count": 51,
   "id": "cfa2019c",
   "metadata": {},
   "outputs": [
    {
     "data": {
      "image/png": "[encoded data removed]",
      "text/plain": [
       "<Figure size 432x288 with 1 Axes>"
      ]
     },
     "metadata": {
      "needs_background": "light"
     },
     "output_type": "display_data"
    }
   ],
   "source": [
    "#plt.boxplot(dfloan['annual_inc'])\n",
    "plt.boxplot(dfloan['annual_inc'])\n",
    "plt.show()"
   ]
  },
  {
   "cell_type": "code",
   "execution_count": 52,
   "id": "7bf77941",
   "metadata": {},
   "outputs": [
    {
     "data": {
      "text/plain": [
       "count    3.964400e+04\n",
       "mean     6.900832e+04\n",
       "std      6.383481e+04\n",
       "min      4.000000e+03\n",
       "25%      4.050000e+04\n",
       "50%      5.900000e+04\n",
       "75%      8.240400e+04\n",
       "max      6.000000e+06\n",
       "Name: annual_inc, dtype: float64"
      ]
     },
     "execution_count": 52,
     "metadata": {},
     "output_type": "execute_result"
    }
   ],
   "source": [
    "dfloan.annual_inc.describe()"
   ]
  },
  {
   "cell_type": "markdown",
   "id": "eb1c4c87-15f3-4b63-9521-8d22a83725df",
   "metadata": {},
   "source": [
    "#### Removing outliers \n",
    "\n",
    "remove rows where annual income is more than 300000"
   ]
  },
  {
   "cell_type": "code",
   "execution_count": 53,
   "id": "0797090c",
   "metadata": {},
   "outputs": [],
   "source": [
    "dfloan = dfloan[dfloan.annual_inc < 300000]"
   ]
  },
  {
   "cell_type": "code",
   "execution_count": 54,
   "id": "075399f7",
   "metadata": {},
   "outputs": [
    {
     "data": {
      "image/png": "[encoded data removed]",
      "text/plain": [
       "<Figure size 432x288 with 1 Axes>"
      ]
     },
     "metadata": {
      "needs_background": "light"
     },
     "output_type": "display_data"
    }
   ],
   "source": [
    "plt.boxplot(dfloan['annual_inc'])\n",
    "plt.show()"
   ]
  },
  {
   "cell_type": "code",
   "execution_count": 55,
   "id": "76a9430f",
   "metadata": {},
   "outputs": [
    {
     "data": {
      "text/plain": [
       "id                           int64\n",
       "member_id                    int64\n",
       "loan_amnt                    int64\n",
       "funded_amnt                  int64\n",
       "funded_amnt_inv            float64\n",
       "term                         int32\n",
       "int_rate                   float32\n",
       "installment                float64\n",
       "grade                       object\n",
       "sub_grade                   object\n",
       "emp_title                   object\n",
       "emp_length                   int32\n",
       "home_ownership              object\n",
       "annual_inc                 float64\n",
       "verification_status         object\n",
       "issue_d                     object\n",
       "loan_status                 object\n",
       "purpose                     object\n",
       "zip_code                    object\n",
       "addr_state                  object\n",
       "dti                        float64\n",
       "delinq_2yrs                  int64\n",
       "earliest_cr_line            object\n",
       "inq_last_6mths               int64\n",
       "open_acc                     int64\n",
       "pub_rec                      int64\n",
       "revol_bal                    int64\n",
       "revol_util                  object\n",
       "total_acc                    int64\n",
       "out_prncp                  float64\n",
       "out_prncp_inv              float64\n",
       "total_pymnt                float64\n",
       "total_pymnt_inv            float64\n",
       "total_rec_prncp            float64\n",
       "total_rec_int              float64\n",
       "total_rec_late_fee         float64\n",
       "recoveries                 float64\n",
       "collection_recovery_fee    float64\n",
       "last_pymnt_d                object\n",
       "last_pymnt_amnt            float64\n",
       "last_credit_pull_d          object\n",
       "pub_rec_bankruptcies       float64\n",
       "dtype: object"
      ]
     },
     "execution_count": 55,
     "metadata": {},
     "output_type": "execute_result"
    }
   ],
   "source": [
    "dfloan.dtypes"
   ]
  },
  {
   "cell_type": "code",
   "execution_count": 56,
   "id": "387c3bbf",
   "metadata": {},
   "outputs": [
    {
     "data": {
      "image/png": "[encoded data removed]",
      "text/plain": [
       "<Figure size 432x288 with 1 Axes>"
      ]
     },
     "metadata": {
      "needs_background": "light"
     },
     "output_type": "display_data"
    }
   ],
   "source": [
    "plt.boxplot(dfloan.loan_amnt)\n",
    "plt.show()"
   ]
  },
  {
   "cell_type": "markdown",
   "id": "5f563a20-cd73-49c4-b656-3d5975598e78",
   "metadata": {},
   "source": [
    "##### Removing entries where loan_status is Current as the current loan transaction is not relevant to our lending club case study problem stmt\n"
   ]
  },
  {
   "cell_type": "code",
   "execution_count": 57,
   "id": "8d5eded3",
   "metadata": {},
   "outputs": [],
   "source": [
    "dfloan = dfloan[dfloan.loan_status != \"Current\"]"
   ]
  },
  {
   "cell_type": "markdown",
   "id": "83485ab4",
   "metadata": {},
   "source": [
    "# Univariate Analysis"
   ]
  },
  {
   "cell_type": "code",
   "execution_count": null,
   "id": "29daea4b",
   "metadata": {},
   "outputs": [],
   "source": [
    "dfloan.loan_status.value_counts()"
   ]
  },
  {
   "cell_type": "code",
   "execution_count": null,
   "id": "6c6c96c6",
   "metadata": {},
   "outputs": [],
   "source": [
    "plt.hist(dfloan.loan_status,bins=2)\n",
    "plt.show()"
   ]
  },
  {
   "cell_type": "code",
   "execution_count": null,
   "id": "69682bdb",
   "metadata": {},
   "outputs": [],
   "source": [
    "sns.distplot(dfloan.loan_amnt,bins=20)\n",
    "plt.show()"
   ]
  },
  {
   "cell_type": "code",
   "execution_count": null,
   "id": "c7ad9812",
   "metadata": {},
   "outputs": [],
   "source": [
    "dfloannotdefault = dfloan[dfloan.loan_status == \"Fully Paid\"]"
   ]
  },
  {
   "cell_type": "code",
   "execution_count": null,
   "id": "c210fe78",
   "metadata": {},
   "outputs": [],
   "source": [
    "dfloandefault = dfloan[dfloan.loan_status == \"Charged Off\"]"
   ]
  },
  {
   "cell_type": "code",
   "execution_count": null,
   "id": "33aa7aac",
   "metadata": {},
   "outputs": [],
   "source": [
    "sns.distplot(dfloan.loan_amnt,bins=30)\n",
    "plt.title('Loan amount Distribution')\n",
    "plt.show()"
   ]
  },
  {
   "cell_type": "code",
   "execution_count": null,
   "id": "689e8162",
   "metadata": {},
   "outputs": [],
   "source": [
    "sns.distplot(dfloan.annual_inc,bins=60)\n",
    "plt.title('Annual Income Distribution')\n",
    "plt.show()"
   ]
  },
  {
   "cell_type": "code",
   "execution_count": null,
   "id": "fb616d03",
   "metadata": {},
   "outputs": [],
   "source": [
    "plt.figure(figsize = [9,7])\n",
    "mylables = [\"Fully Paid\", \"Charged Off\"]\n",
    "\n",
    "plt.pie(dfloan['loan_status'].value_counts(),startangle=90,labels = mylables,autopct='%1.0f%%')\n",
    "plt.title('Loan Status')\n",
    "plt.legend()\n",
    "plt.show()"
   ]
  },
  {
   "cell_type": "code",
   "execution_count": null,
   "id": "a5078c0f",
   "metadata": {},
   "outputs": [],
   "source": [
    "dfloan['loan_status'].value_counts()"
   ]
  },
  {
   "cell_type": "code",
   "execution_count": null,
   "id": "b6e659e0",
   "metadata": {},
   "outputs": [],
   "source": [
    "plt.pie(dfloan['purpose'].value_counts(),startangle=90)\n",
    "plt.title('purpose')\n",
    "plt.legend()\n",
    "plt.show()"
   ]
  },
  {
   "cell_type": "code",
   "execution_count": null,
   "id": "a65165dc",
   "metadata": {},
   "outputs": [],
   "source": [
    "dfloan['purpose'].value_counts().plot.bar()\n",
    "plt.title('purpose')\n",
    "plt.legend()\n",
    "plt.show()"
   ]
  },
  {
   "cell_type": "code",
   "execution_count": null,
   "id": "56df2a7e",
   "metadata": {},
   "outputs": [],
   "source": [
    "dfloan['home_ownership'].value_counts().plot.bar()\n",
    "plt.title('home ownership')\n",
    "plt.show()"
   ]
  },
  {
   "cell_type": "code",
   "execution_count": null,
   "id": "94eefd72",
   "metadata": {},
   "outputs": [],
   "source": [
    "dfloan['addr_state'].value_counts()[:20].plot.bar()\n",
    "plt.title('addr state')\n",
    "plt.legend()\n",
    "plt.show()"
   ]
  },
  {
   "cell_type": "code",
   "execution_count": null,
   "id": "5b453bd7",
   "metadata": {},
   "outputs": [],
   "source": [
    "dfloan.dtypes"
   ]
  },
  {
   "cell_type": "code",
   "execution_count": null,
   "id": "a9281fce",
   "metadata": {
    "scrolled": true
   },
   "outputs": [],
   "source": [
    "sns.distplot(dfloan.int_rate,bins=40)\n",
    "plt.title('Interest Rate Distribution')\n",
    "plt.show()"
   ]
  },
  {
   "cell_type": "markdown",
   "id": "1f9323b7",
   "metadata": {},
   "source": [
    "# Segmented univariate analysis "
   ]
  },
  {
   "cell_type": "code",
   "execution_count": null,
   "id": "c08a5c5f",
   "metadata": {},
   "outputs": [],
   "source": []
  },
  {
   "cell_type": "code",
   "execution_count": null,
   "id": "c5a0d945",
   "metadata": {},
   "outputs": [],
   "source": []
  },
  {
   "cell_type": "code",
   "execution_count": null,
   "id": "41a12ee9",
   "metadata": {},
   "outputs": [],
   "source": []
  },
  {
   "cell_type": "code",
   "execution_count": null,
   "id": "e830ca0e",
   "metadata": {},
   "outputs": [],
   "source": [
    "sns.distplot(dfloannotdefault.loan_amnt,bins=50)\n",
    "plt.title('Loan amount Distribution')\n",
    "plt.show()"
   ]
  },
  {
   "cell_type": "code",
   "execution_count": null,
   "id": "528f449a",
   "metadata": {},
   "outputs": [],
   "source": [
    "sns.distplot(dfloandefault.loan_amnt,bins=50)\n",
    "plt.title('Loan amount Distribution')\n",
    "plt.show()"
   ]
  },
  {
   "cell_type": "markdown",
   "id": "2e2f73c0",
   "metadata": {},
   "source": [
    "# Bivariate analysis"
   ]
  },
  {
   "cell_type": "code",
   "execution_count": null,
   "id": "1ab139cd",
   "metadata": {},
   "outputs": [],
   "source": [
    "plt.figure(figsize = [9,7])\n",
    "sns.jointplot(x = dfloandefault.loan_amnt,y = dfloandefault.purpose)\n",
    "plt.show()"
   ]
  },
  {
   "cell_type": "code",
   "execution_count": null,
   "id": "a7eaa5e6",
   "metadata": {},
   "outputs": [],
   "source": [
    "plt.figure(figsize = [9,7])\n",
    "sns.jointplot(x = dfloannotdefault.loan_amnt,y = dfloannotdefault.purpose)\n",
    "plt.show()"
   ]
  },
  {
   "cell_type": "code",
   "execution_count": null,
   "id": "5e884308",
   "metadata": {},
   "outputs": [],
   "source": [
    "plt.figure(figsize = [9,7])\n",
    "sns.jointplot(x = dfloandefault.annual_inc,y = dfloandefault.loan_amnt)\n",
    "plt.show()"
   ]
  },
  {
   "cell_type": "code",
   "execution_count": null,
   "id": "65ff5bd9",
   "metadata": {},
   "outputs": [],
   "source": [
    "plt.figure(figsize = [9,7])\n",
    "sns.jointplot(y = dfloannotdefault.annual_inc,x = dfloannotdefault.loan_amnt)\n",
    "plt.show()"
   ]
  },
  {
   "cell_type": "code",
   "execution_count": null,
   "id": "cef828a4",
   "metadata": {},
   "outputs": [],
   "source": [
    "plt.figure(figsize = [9,7])\n",
    "sns.jointplot(x = dfloandefault[dfloandefault[\"loan_amnt\"] != dfloandefault[\"funded_amnt\"]].loan_amnt,y = dfloandefault[dfloandefault[\"loan_amnt\"] != dfloandefault[\"funded_amnt\"]].funded_amnt)\n",
    "plt.show()"
   ]
  },
  {
   "cell_type": "code",
   "execution_count": null,
   "id": "ed2f7f70",
   "metadata": {},
   "outputs": [],
   "source": [
    "plt.figure(figsize = [9,7])\n",
    "sns.jointplot(x = dfloannotdefault[dfloannotdefault[\"loan_amnt\"] != dfloannotdefault[\"funded_amnt\"]].loan_amnt,y = dfloannotdefault[dfloannotdefault[\"loan_amnt\"] != dfloannotdefault[\"funded_amnt\"]].funded_amnt)\n",
    "plt.show()"
   ]
  },
  {
   "cell_type": "markdown",
   "id": "f2c12412",
   "metadata": {},
   "source": [
    "loan amnt and funded amnt is corrlate to other so if we can get any conclusion on loan amnt or funded amnt both are equivalent"
   ]
  },
  {
   "cell_type": "code",
   "execution_count": null,
   "id": "e0d6eb44",
   "metadata": {},
   "outputs": [],
   "source": [
    "plt.figure(figsize = [9,7])\n",
    "sns.jointplot(y = dfloan.loan_status,x = dfloan.home_ownership)\n",
    "plt.show()\n",
    "#we can conclude that "
   ]
  },
  {
   "cell_type": "code",
   "execution_count": null,
   "id": "6bcd1f87",
   "metadata": {},
   "outputs": [],
   "source": [
    "homeownership = pd.pivot_table(data = dfloan, values = \"annual_inc\",index=\"loan_status\",columns = \"home_ownership\",aggfunc = np.mean)\n",
    "homeownership"
   ]
  },
  {
   "cell_type": "code",
   "execution_count": null,
   "id": "1695b5d7",
   "metadata": {},
   "outputs": [],
   "source": [
    "sns.heatmap(homeownership)\n",
    "plt.show()"
   ]
  },
  {
   "cell_type": "markdown",
   "id": "14a99eeb",
   "metadata": {},
   "source": [
    "from heat map and joinplot we can conclude that a person who has a own house has a less annual income"
   ]
  },
  {
   "cell_type": "code",
   "execution_count": null,
   "id": "4e1316b0",
   "metadata": {},
   "outputs": [],
   "source": [
    "np.mean(dfloan[dfloan[\"home_ownership\"] == \"MORTGAGE\"].annual_inc)"
   ]
  },
  {
   "cell_type": "code",
   "execution_count": null,
   "id": "e8a04586",
   "metadata": {},
   "outputs": [],
   "source": [
    "np.mean(dfloan[dfloan[\"home_ownership\"] == \"OWN\"].annual_inc)"
   ]
  },
  {
   "cell_type": "code",
   "execution_count": null,
   "id": "352dcff1",
   "metadata": {},
   "outputs": [],
   "source": [
    "purpose = pd.pivot_table(data = dfloan, values = \"annual_inc\",index=\"loan_status\",columns = \"purpose\",aggfunc = np.mean)\n",
    "purpose"
   ]
  },
  {
   "cell_type": "code",
   "execution_count": null,
   "id": "e559d17f",
   "metadata": {},
   "outputs": [],
   "source": [
    "sns.heatmap(purpose)\n",
    "plt.show()"
   ]
  },
  {
   "cell_type": "markdown",
   "id": "6d9726c0",
   "metadata": {},
   "source": [
    " --> purpose of moving  with 50000 -55000,carloan with less then 60000  income who are the most charged off,\n",
    " --> home improvement with 75000 - 80000 salary is are the less chance of the charged off"
   ]
  },
  {
   "cell_type": "code",
   "execution_count": null,
   "id": "a411c889",
   "metadata": {},
   "outputs": [],
   "source": []
  }
 ],
 "metadata": {
  "kernelspec": {
   "display_name": "Python 3",
   "language": "python",
   "name": "python3"
  },
  "language_info": {
   "codemirror_mode": {
    "name": "ipython",
    "version": 3
   },
   "file_extension": ".py",
   "mimetype": "text/x-python",
   "name": "python",
   "nbconvert_exporter": "python",
   "pygments_lexer": "ipython3",
   "version": "3.8.8"
  }
 },
 "nbformat": 4,
 "nbformat_minor": 5
}
